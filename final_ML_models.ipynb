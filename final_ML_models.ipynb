{
 "cells": [
  {
   "cell_type": "markdown",
   "id": "ed480b02",
   "metadata": {},
   "source": [
    "# Maryland vehicle crashes"
   ]
  },
  {
   "cell_type": "code",
   "execution_count": 1,
   "id": "fc27d0e6",
   "metadata": {},
   "outputs": [],
   "source": [
    "# importing libraries and file.\n",
    "\n",
    "# for some basic operations\n",
    "import numpy as np \n",
    "import pandas as pd \n",
    "\n",
    "# for visualizations\n",
    "import matplotlib.pyplot as plt\n",
    "\n",
    "# for machine learning\n",
    "import warnings\n",
    "warnings.filterwarnings('ignore')\n",
    "from sklearn.model_selection import GridSearchCV\n",
    "from sklearn.metrics import classification_report\n",
    "from sklearn.metrics import roc_curve\n",
    "from sklearn.svm import SVC\n",
    "from sklearn.metrics import ConfusionMatrixDisplay\n",
    "from sklearn.pipeline import Pipeline\n",
    "from sklearn.impute import SimpleImputer\n",
    "from sklearn.preprocessing import StandardScaler\n",
    "from sklearn.preprocessing import OneHotEncoder\n",
    "from sklearn.compose import ColumnTransformer\n",
    "from sklearn.metrics import accuracy_score\n",
    "from sklearn.decomposition import PCA\n",
    "from sklearn.ensemble import VotingClassifier\n",
    "from sklearn.model_selection import train_test_split\n",
    "from sklearn.model_selection import cross_val_score\n",
    "from sklearn.linear_model import LogisticRegression\n",
    "from collections import defaultdict\n",
    "from sklearn.metrics import roc_auc_score\n",
    "from sklearn.ensemble import RandomForestClassifier"
   ]
  },
  {
   "cell_type": "code",
   "execution_count": 2,
   "id": "46da9aef",
   "metadata": {},
   "outputs": [
    {
     "data": {
      "text/html": [
       "<div>\n",
       "<style scoped>\n",
       "    .dataframe tbody tr th:only-of-type {\n",
       "        vertical-align: middle;\n",
       "    }\n",
       "\n",
       "    .dataframe tbody tr th {\n",
       "        vertical-align: top;\n",
       "    }\n",
       "\n",
       "    .dataframe thead th {\n",
       "        text-align: right;\n",
       "    }\n",
       "</style>\n",
       "<table border=\"1\" class=\"dataframe\">\n",
       "  <thead>\n",
       "    <tr style=\"text-align: right;\">\n",
       "      <th></th>\n",
       "      <th>YEAR</th>\n",
       "      <th>QUARTER</th>\n",
       "      <th>LIGHT_DESC</th>\n",
       "      <th>LIGHT_CODE</th>\n",
       "      <th>COUNTY_DESC</th>\n",
       "      <th>COUNTY_NO</th>\n",
       "      <th>MUNI_DESC</th>\n",
       "      <th>MUNI_CODE</th>\n",
       "      <th>JUNCTION_DESC</th>\n",
       "      <th>JUNCTION_CODE</th>\n",
       "      <th>...</th>\n",
       "      <th>FEET_MILES_FLAG_DESC</th>\n",
       "      <th>FEET_MILES_FLAG</th>\n",
       "      <th>DISTANCE_DIR_FLAG</th>\n",
       "      <th>REFERENCE_NO</th>\n",
       "      <th>REFERENCE_TYPE_CODE</th>\n",
       "      <th>REFERENCE_SUFFIX</th>\n",
       "      <th>REFERENCE_ROAD_NAME</th>\n",
       "      <th>LATITUDE</th>\n",
       "      <th>LONGITUDE</th>\n",
       "      <th>LOCATION</th>\n",
       "    </tr>\n",
       "  </thead>\n",
       "  <tbody>\n",
       "    <tr>\n",
       "      <th>0</th>\n",
       "      <td>2020</td>\n",
       "      <td>Q2</td>\n",
       "      <td>Daylight</td>\n",
       "      <td>1.00</td>\n",
       "      <td>Baltimore</td>\n",
       "      <td>3.0</td>\n",
       "      <td>NaN</td>\n",
       "      <td>NaN</td>\n",
       "      <td>NaN</td>\n",
       "      <td>NaN</td>\n",
       "      <td>...</td>\n",
       "      <td>NaN</td>\n",
       "      <td>NaN</td>\n",
       "      <td>NaN</td>\n",
       "      <td>NaN</td>\n",
       "      <td>NaN</td>\n",
       "      <td>NaN</td>\n",
       "      <td>NaN</td>\n",
       "      <td>39.277263</td>\n",
       "      <td>-76.503693</td>\n",
       "      <td>POINT (-76.5036932 39.27726285)</td>\n",
       "    </tr>\n",
       "    <tr>\n",
       "      <th>1</th>\n",
       "      <td>2022</td>\n",
       "      <td>Q2</td>\n",
       "      <td>Dark Lights On</td>\n",
       "      <td>3.00</td>\n",
       "      <td>Montgomery</td>\n",
       "      <td>15.0</td>\n",
       "      <td>NaN</td>\n",
       "      <td>NaN</td>\n",
       "      <td>NaN</td>\n",
       "      <td>NaN</td>\n",
       "      <td>...</td>\n",
       "      <td>NaN</td>\n",
       "      <td>NaN</td>\n",
       "      <td>NaN</td>\n",
       "      <td>NaN</td>\n",
       "      <td>NaN</td>\n",
       "      <td>NaN</td>\n",
       "      <td>NaN</td>\n",
       "      <td>38.992210</td>\n",
       "      <td>-77.097021</td>\n",
       "      <td>POINT (-77.097020666667 38.9922095)</td>\n",
       "    </tr>\n",
       "    <tr>\n",
       "      <th>2</th>\n",
       "      <td>2020</td>\n",
       "      <td>Q4</td>\n",
       "      <td>NaN</td>\n",
       "      <td>6.02</td>\n",
       "      <td>Baltimore</td>\n",
       "      <td>3.0</td>\n",
       "      <td>NaN</td>\n",
       "      <td>NaN</td>\n",
       "      <td>NaN</td>\n",
       "      <td>NaN</td>\n",
       "      <td>...</td>\n",
       "      <td>NaN</td>\n",
       "      <td>NaN</td>\n",
       "      <td>NaN</td>\n",
       "      <td>NaN</td>\n",
       "      <td>NaN</td>\n",
       "      <td>NaN</td>\n",
       "      <td>NaN</td>\n",
       "      <td>39.323620</td>\n",
       "      <td>-76.503080</td>\n",
       "      <td>POINT (-76.503080116667 39.323620083333)</td>\n",
       "    </tr>\n",
       "    <tr>\n",
       "      <th>3</th>\n",
       "      <td>2022</td>\n",
       "      <td>Q1</td>\n",
       "      <td>Daylight</td>\n",
       "      <td>1.00</td>\n",
       "      <td>Baltimore</td>\n",
       "      <td>3.0</td>\n",
       "      <td>NaN</td>\n",
       "      <td>NaN</td>\n",
       "      <td>NaN</td>\n",
       "      <td>NaN</td>\n",
       "      <td>...</td>\n",
       "      <td>NaN</td>\n",
       "      <td>NaN</td>\n",
       "      <td>NaN</td>\n",
       "      <td>NaN</td>\n",
       "      <td>NaN</td>\n",
       "      <td>NaN</td>\n",
       "      <td>NaN</td>\n",
       "      <td>39.411213</td>\n",
       "      <td>-76.628028</td>\n",
       "      <td>POINT (-76.628028425147 39.411213105087)</td>\n",
       "    </tr>\n",
       "    <tr>\n",
       "      <th>4</th>\n",
       "      <td>2022</td>\n",
       "      <td>Q2</td>\n",
       "      <td>Dark Lights On</td>\n",
       "      <td>3.00</td>\n",
       "      <td>Queen Anne's</td>\n",
       "      <td>17.0</td>\n",
       "      <td>NaN</td>\n",
       "      <td>NaN</td>\n",
       "      <td>NaN</td>\n",
       "      <td>NaN</td>\n",
       "      <td>...</td>\n",
       "      <td>NaN</td>\n",
       "      <td>NaN</td>\n",
       "      <td>NaN</td>\n",
       "      <td>NaN</td>\n",
       "      <td>NaN</td>\n",
       "      <td>NaN</td>\n",
       "      <td>NaN</td>\n",
       "      <td>38.974880</td>\n",
       "      <td>-76.281090</td>\n",
       "      <td>POINT (-76.28109 38.97488)</td>\n",
       "    </tr>\n",
       "    <tr>\n",
       "      <th>...</th>\n",
       "      <td>...</td>\n",
       "      <td>...</td>\n",
       "      <td>...</td>\n",
       "      <td>...</td>\n",
       "      <td>...</td>\n",
       "      <td>...</td>\n",
       "      <td>...</td>\n",
       "      <td>...</td>\n",
       "      <td>...</td>\n",
       "      <td>...</td>\n",
       "      <td>...</td>\n",
       "      <td>...</td>\n",
       "      <td>...</td>\n",
       "      <td>...</td>\n",
       "      <td>...</td>\n",
       "      <td>...</td>\n",
       "      <td>...</td>\n",
       "      <td>...</td>\n",
       "      <td>...</td>\n",
       "      <td>...</td>\n",
       "      <td>...</td>\n",
       "    </tr>\n",
       "    <tr>\n",
       "      <th>848799</th>\n",
       "      <td>2022</td>\n",
       "      <td>Q3</td>\n",
       "      <td>Daylight</td>\n",
       "      <td>1.00</td>\n",
       "      <td>Anne Arundel</td>\n",
       "      <td>2.0</td>\n",
       "      <td>NaN</td>\n",
       "      <td>0.0</td>\n",
       "      <td>Not Applicable</td>\n",
       "      <td>0.0</td>\n",
       "      <td>...</td>\n",
       "      <td>Miles</td>\n",
       "      <td>M</td>\n",
       "      <td>E</td>\n",
       "      <td>607.0</td>\n",
       "      <td>CO</td>\n",
       "      <td>NaN</td>\n",
       "      <td>OLD STAGE RD</td>\n",
       "      <td>39.158164</td>\n",
       "      <td>-76.628893</td>\n",
       "      <td>POINT (-76.62889296443 39.158163996637)</td>\n",
       "    </tr>\n",
       "    <tr>\n",
       "      <th>848800</th>\n",
       "      <td>2022</td>\n",
       "      <td>Q3</td>\n",
       "      <td>Daylight</td>\n",
       "      <td>1.00</td>\n",
       "      <td>Baltimore</td>\n",
       "      <td>3.0</td>\n",
       "      <td>NaN</td>\n",
       "      <td>0.0</td>\n",
       "      <td>NaN</td>\n",
       "      <td>88.0</td>\n",
       "      <td>...</td>\n",
       "      <td>Feet</td>\n",
       "      <td>F</td>\n",
       "      <td>N</td>\n",
       "      <td>1300.0</td>\n",
       "      <td>CO</td>\n",
       "      <td>NaN</td>\n",
       "      <td>REGESTER AVE</td>\n",
       "      <td>39.378626</td>\n",
       "      <td>-76.608568</td>\n",
       "      <td>POINT (-76.608567616667 39.378625966667)</td>\n",
       "    </tr>\n",
       "    <tr>\n",
       "      <th>848801</th>\n",
       "      <td>2022</td>\n",
       "      <td>Q3</td>\n",
       "      <td>Daylight</td>\n",
       "      <td>1.00</td>\n",
       "      <td>Baltimore</td>\n",
       "      <td>3.0</td>\n",
       "      <td>NaN</td>\n",
       "      <td>0.0</td>\n",
       "      <td>Not Applicable</td>\n",
       "      <td>0.0</td>\n",
       "      <td>...</td>\n",
       "      <td>Feet</td>\n",
       "      <td>F</td>\n",
       "      <td>W</td>\n",
       "      <td>4095.0</td>\n",
       "      <td>CO</td>\n",
       "      <td>NaN</td>\n",
       "      <td>EBENEZER RD</td>\n",
       "      <td>39.387539</td>\n",
       "      <td>-76.418305</td>\n",
       "      <td>POINT (-76.418304879322 39.387539278395)</td>\n",
       "    </tr>\n",
       "    <tr>\n",
       "      <th>848802</th>\n",
       "      <td>2022</td>\n",
       "      <td>Q3</td>\n",
       "      <td>Daylight</td>\n",
       "      <td>1.00</td>\n",
       "      <td>Anne Arundel</td>\n",
       "      <td>2.0</td>\n",
       "      <td>NaN</td>\n",
       "      <td>0.0</td>\n",
       "      <td>Non Intersection</td>\n",
       "      <td>1.0</td>\n",
       "      <td>...</td>\n",
       "      <td>Feet</td>\n",
       "      <td>F</td>\n",
       "      <td>N</td>\n",
       "      <td>12.0</td>\n",
       "      <td>SR</td>\n",
       "      <td>NaN</td>\n",
       "      <td>OCEANIC DR</td>\n",
       "      <td>39.019090</td>\n",
       "      <td>-76.403650</td>\n",
       "      <td>POINT (-76.40365 39.01909)</td>\n",
       "    </tr>\n",
       "    <tr>\n",
       "      <th>848803</th>\n",
       "      <td>2022</td>\n",
       "      <td>Q3</td>\n",
       "      <td>Dark Lights On</td>\n",
       "      <td>3.00</td>\n",
       "      <td>Baltimore</td>\n",
       "      <td>3.0</td>\n",
       "      <td>NaN</td>\n",
       "      <td>0.0</td>\n",
       "      <td>Non Intersection</td>\n",
       "      <td>1.0</td>\n",
       "      <td>...</td>\n",
       "      <td>Feet</td>\n",
       "      <td>F</td>\n",
       "      <td>E</td>\n",
       "      <td>2189.0</td>\n",
       "      <td>CO</td>\n",
       "      <td>NaN</td>\n",
       "      <td>PARMELEE RD</td>\n",
       "      <td>39.367800</td>\n",
       "      <td>-76.762110</td>\n",
       "      <td>POINT (-76.76211 39.3678)</td>\n",
       "    </tr>\n",
       "  </tbody>\n",
       "</table>\n",
       "<p>848804 rows × 55 columns</p>\n",
       "</div>"
      ],
      "text/plain": [
       "        YEAR QUARTER      LIGHT_DESC  LIGHT_CODE   COUNTY_DESC  COUNTY_NO  \\\n",
       "0       2020      Q2        Daylight        1.00     Baltimore        3.0   \n",
       "1       2022      Q2  Dark Lights On        3.00    Montgomery       15.0   \n",
       "2       2020      Q4             NaN        6.02     Baltimore        3.0   \n",
       "3       2022      Q1        Daylight        1.00     Baltimore        3.0   \n",
       "4       2022      Q2  Dark Lights On        3.00  Queen Anne's       17.0   \n",
       "...      ...     ...             ...         ...           ...        ...   \n",
       "848799  2022      Q3        Daylight        1.00  Anne Arundel        2.0   \n",
       "848800  2022      Q3        Daylight        1.00     Baltimore        3.0   \n",
       "848801  2022      Q3        Daylight        1.00     Baltimore        3.0   \n",
       "848802  2022      Q3        Daylight        1.00  Anne Arundel        2.0   \n",
       "848803  2022      Q3  Dark Lights On        3.00     Baltimore        3.0   \n",
       "\n",
       "        MUNI_DESC  MUNI_CODE     JUNCTION_DESC  JUNCTION_CODE  ...  \\\n",
       "0             NaN        NaN               NaN            NaN  ...   \n",
       "1             NaN        NaN               NaN            NaN  ...   \n",
       "2             NaN        NaN               NaN            NaN  ...   \n",
       "3             NaN        NaN               NaN            NaN  ...   \n",
       "4             NaN        NaN               NaN            NaN  ...   \n",
       "...           ...        ...               ...            ...  ...   \n",
       "848799        NaN        0.0    Not Applicable            0.0  ...   \n",
       "848800        NaN        0.0               NaN           88.0  ...   \n",
       "848801        NaN        0.0    Not Applicable            0.0  ...   \n",
       "848802        NaN        0.0  Non Intersection            1.0  ...   \n",
       "848803        NaN        0.0  Non Intersection            1.0  ...   \n",
       "\n",
       "       FEET_MILES_FLAG_DESC  FEET_MILES_FLAG DISTANCE_DIR_FLAG  REFERENCE_NO  \\\n",
       "0                       NaN              NaN               NaN           NaN   \n",
       "1                       NaN              NaN               NaN           NaN   \n",
       "2                       NaN              NaN               NaN           NaN   \n",
       "3                       NaN              NaN               NaN           NaN   \n",
       "4                       NaN              NaN               NaN           NaN   \n",
       "...                     ...              ...               ...           ...   \n",
       "848799                Miles                M                 E         607.0   \n",
       "848800                 Feet                F                 N        1300.0   \n",
       "848801                 Feet                F                 W        4095.0   \n",
       "848802                 Feet                F                 N          12.0   \n",
       "848803                 Feet                F                 E        2189.0   \n",
       "\n",
       "        REFERENCE_TYPE_CODE REFERENCE_SUFFIX  REFERENCE_ROAD_NAME   LATITUDE  \\\n",
       "0                       NaN              NaN                  NaN  39.277263   \n",
       "1                       NaN              NaN                  NaN  38.992210   \n",
       "2                       NaN              NaN                  NaN  39.323620   \n",
       "3                       NaN              NaN                  NaN  39.411213   \n",
       "4                       NaN              NaN                  NaN  38.974880   \n",
       "...                     ...              ...                  ...        ...   \n",
       "848799                   CO              NaN         OLD STAGE RD  39.158164   \n",
       "848800                   CO              NaN         REGESTER AVE  39.378626   \n",
       "848801                   CO              NaN          EBENEZER RD  39.387539   \n",
       "848802                   SR              NaN           OCEANIC DR  39.019090   \n",
       "848803                   CO              NaN          PARMELEE RD  39.367800   \n",
       "\n",
       "        LONGITUDE                                  LOCATION  \n",
       "0      -76.503693           POINT (-76.5036932 39.27726285)  \n",
       "1      -77.097021       POINT (-77.097020666667 38.9922095)  \n",
       "2      -76.503080  POINT (-76.503080116667 39.323620083333)  \n",
       "3      -76.628028  POINT (-76.628028425147 39.411213105087)  \n",
       "4      -76.281090                POINT (-76.28109 38.97488)  \n",
       "...           ...                                       ...  \n",
       "848799 -76.628893   POINT (-76.62889296443 39.158163996637)  \n",
       "848800 -76.608568  POINT (-76.608567616667 39.378625966667)  \n",
       "848801 -76.418305  POINT (-76.418304879322 39.387539278395)  \n",
       "848802 -76.403650                POINT (-76.40365 39.01909)  \n",
       "848803 -76.762110                 POINT (-76.76211 39.3678)  \n",
       "\n",
       "[848804 rows x 55 columns]"
      ]
     },
     "execution_count": 2,
     "metadata": {},
     "output_type": "execute_result"
    }
   ],
   "source": [
    "# dataset download link: https://opendata.maryland.gov/widgets/65du-s3qu\n",
    "\n",
    "#import the dataset.\n",
    "#import the dataset here I am taking only first few rows from the dataset.\n",
    "#df=pd.read_csv('Maryland_Statewide_Vehicle_Crashes.csv',skipfooter = 700000,\n",
    "#                  engine = 'python')\n",
    "df=pd.read_csv('Maryland_Statewide_Vehicle_Crashes.csv',engine = 'python')\n",
    "df"
   ]
  },
  {
   "cell_type": "code",
   "execution_count": 3,
   "id": "3f0e176b",
   "metadata": {},
   "outputs": [
    {
     "data": {
      "text/plain": [
       "(848804, 55)"
      ]
     },
     "execution_count": 3,
     "metadata": {},
     "output_type": "execute_result"
    }
   ],
   "source": [
    "df.shape   #To find the count of rows and columns in the df"
   ]
  },
  {
   "cell_type": "code",
   "execution_count": 4,
   "id": "273d582a",
   "metadata": {},
   "outputs": [
    {
     "data": {
      "text/plain": [
       "Index(['YEAR', 'QUARTER', 'LIGHT_DESC', 'LIGHT_CODE', 'COUNTY_DESC',\n",
       "       'COUNTY_NO', 'MUNI_DESC', 'MUNI_CODE', 'JUNCTION_DESC', 'JUNCTION_CODE',\n",
       "       'COLLISION_TYPE_DESC', 'COLLISION_TYPE_CODE', 'SURF_COND_DESC',\n",
       "       'SURF_COND_CODE', 'LANE_CODE', 'RD_COND_DESC', 'RD_COND_CODE',\n",
       "       'RD_DIV_DESC', 'RD_DIV_CODE', 'FIX_OBJ_DESC', 'FIX_OBJ_CODE',\n",
       "       'REPORT_NO', 'REPORT_TYPE', 'WEATHER_DESC', 'WEATHER_CODE', 'ACC_DATE',\n",
       "       'ACC_TIME', 'LOC_CODE', 'SIGNAL_FLAG_DESC', 'SIGNAL_FLAG',\n",
       "       'C_M_ZONE_FLAG', 'AGENCY_CODE', 'AREA_CODE', 'HARM_EVENT_DESC1',\n",
       "       'HARM_EVENT_CODE1', 'HARM_EVENT_DESC2', 'HARM_EVENT_CODE2', 'RTE_NO',\n",
       "       'ROUTE_TYPE_CODE', 'RTE_SUFFIX', 'LOG_MILE', 'LOGMILE_DIR_FLAG_DESC',\n",
       "       'LOGMILE_DIR_FLAG', 'MAINROAD_NAME', 'DISTANCE', 'FEET_MILES_FLAG_DESC',\n",
       "       'FEET_MILES_FLAG', 'DISTANCE_DIR_FLAG', 'REFERENCE_NO',\n",
       "       'REFERENCE_TYPE_CODE', 'REFERENCE_SUFFIX', 'REFERENCE_ROAD_NAME',\n",
       "       'LATITUDE', 'LONGITUDE', 'LOCATION'],\n",
       "      dtype='object')"
      ]
     },
     "execution_count": 4,
     "metadata": {},
     "output_type": "execute_result"
    }
   ],
   "source": [
    "#column names of the dataset\n",
    "df.columns"
   ]
  },
  {
   "cell_type": "code",
   "execution_count": 5,
   "id": "52f99e7e",
   "metadata": {},
   "outputs": [
    {
     "data": {
      "text/html": [
       "<div>\n",
       "<style scoped>\n",
       "    .dataframe tbody tr th:only-of-type {\n",
       "        vertical-align: middle;\n",
       "    }\n",
       "\n",
       "    .dataframe tbody tr th {\n",
       "        vertical-align: top;\n",
       "    }\n",
       "\n",
       "    .dataframe thead th {\n",
       "        text-align: right;\n",
       "    }\n",
       "</style>\n",
       "<table border=\"1\" class=\"dataframe\">\n",
       "  <thead>\n",
       "    <tr style=\"text-align: right;\">\n",
       "      <th></th>\n",
       "      <th>YEAR</th>\n",
       "      <th>LIGHT_CODE</th>\n",
       "      <th>COUNTY_NO</th>\n",
       "      <th>MUNI_DESC</th>\n",
       "      <th>MUNI_CODE</th>\n",
       "      <th>JUNCTION_CODE</th>\n",
       "      <th>COLLISION_TYPE_CODE</th>\n",
       "      <th>SURF_COND_CODE</th>\n",
       "      <th>LANE_CODE</th>\n",
       "      <th>RD_COND_CODE</th>\n",
       "      <th>...</th>\n",
       "      <th>WEATHER_CODE</th>\n",
       "      <th>ACC_DATE</th>\n",
       "      <th>HARM_EVENT_CODE1</th>\n",
       "      <th>HARM_EVENT_CODE2</th>\n",
       "      <th>RTE_NO</th>\n",
       "      <th>LOG_MILE</th>\n",
       "      <th>DISTANCE</th>\n",
       "      <th>REFERENCE_NO</th>\n",
       "      <th>LATITUDE</th>\n",
       "      <th>LONGITUDE</th>\n",
       "    </tr>\n",
       "  </thead>\n",
       "  <tbody>\n",
       "    <tr>\n",
       "      <th>count</th>\n",
       "      <td>848804.000000</td>\n",
       "      <td>848804.000000</td>\n",
       "      <td>848791.000000</td>\n",
       "      <td>0.0</td>\n",
       "      <td>635918.000000</td>\n",
       "      <td>764448.000000</td>\n",
       "      <td>848804.000000</td>\n",
       "      <td>764448.000000</td>\n",
       "      <td>645134.000000</td>\n",
       "      <td>764448.000000</td>\n",
       "      <td>...</td>\n",
       "      <td>848804.000000</td>\n",
       "      <td>8.488040e+05</td>\n",
       "      <td>848804.000000</td>\n",
       "      <td>848804.000000</td>\n",
       "      <td>678672.000000</td>\n",
       "      <td>760951.000000</td>\n",
       "      <td>745912.000000</td>\n",
       "      <td>671461.000000</td>\n",
       "      <td>848804.000000</td>\n",
       "      <td>848804.000000</td>\n",
       "    </tr>\n",
       "    <tr>\n",
       "      <th>mean</th>\n",
       "      <td>2018.292162</td>\n",
       "      <td>3.920314</td>\n",
       "      <td>12.758671</td>\n",
       "      <td>NaN</td>\n",
       "      <td>103.102466</td>\n",
       "      <td>2.654248</td>\n",
       "      <td>21.301865</td>\n",
       "      <td>2.650846</td>\n",
       "      <td>1.487601</td>\n",
       "      <td>1.779313</td>\n",
       "      <td>...</td>\n",
       "      <td>6.271491</td>\n",
       "      <td>2.018359e+07</td>\n",
       "      <td>3.946662</td>\n",
       "      <td>2.129694</td>\n",
       "      <td>969.321136</td>\n",
       "      <td>4.817931</td>\n",
       "      <td>63.561981</td>\n",
       "      <td>1282.173195</td>\n",
       "      <td>39.145036</td>\n",
       "      <td>-76.744918</td>\n",
       "    </tr>\n",
       "    <tr>\n",
       "      <th>std</th>\n",
       "      <td>2.222439</td>\n",
       "      <td>13.463945</td>\n",
       "      <td>7.863632</td>\n",
       "      <td>NaN</td>\n",
       "      <td>288.485994</td>\n",
       "      <td>9.991348</td>\n",
       "      <td>29.863128</td>\n",
       "      <td>9.131210</td>\n",
       "      <td>0.804584</td>\n",
       "      <td>8.547742</td>\n",
       "      <td>...</td>\n",
       "      <td>10.244158</td>\n",
       "      <td>2.220203e+04</td>\n",
       "      <td>8.571561</td>\n",
       "      <td>7.514640</td>\n",
       "      <td>1632.210201</td>\n",
       "      <td>9.263772</td>\n",
       "      <td>141.342771</td>\n",
       "      <td>1921.826956</td>\n",
       "      <td>0.310852</td>\n",
       "      <td>0.468617</td>\n",
       "    </tr>\n",
       "    <tr>\n",
       "      <th>min</th>\n",
       "      <td>2015.000000</td>\n",
       "      <td>0.000000</td>\n",
       "      <td>1.000000</td>\n",
       "      <td>NaN</td>\n",
       "      <td>0.000000</td>\n",
       "      <td>0.000000</td>\n",
       "      <td>0.000000</td>\n",
       "      <td>0.000000</td>\n",
       "      <td>1.000000</td>\n",
       "      <td>0.000000</td>\n",
       "      <td>...</td>\n",
       "      <td>0.000000</td>\n",
       "      <td>2.015010e+07</td>\n",
       "      <td>0.000000</td>\n",
       "      <td>0.000000</td>\n",
       "      <td>-121.000000</td>\n",
       "      <td>0.000000</td>\n",
       "      <td>0.000000</td>\n",
       "      <td>-295.000000</td>\n",
       "      <td>37.000000</td>\n",
       "      <td>-79.996100</td>\n",
       "    </tr>\n",
       "    <tr>\n",
       "      <th>25%</th>\n",
       "      <td>2016.000000</td>\n",
       "      <td>1.000000</td>\n",
       "      <td>3.000000</td>\n",
       "      <td>NaN</td>\n",
       "      <td>0.000000</td>\n",
       "      <td>1.000000</td>\n",
       "      <td>3.000000</td>\n",
       "      <td>2.000000</td>\n",
       "      <td>1.000000</td>\n",
       "      <td>1.000000</td>\n",
       "      <td>...</td>\n",
       "      <td>6.010000</td>\n",
       "      <td>2.016111e+07</td>\n",
       "      <td>1.000000</td>\n",
       "      <td>0.000000</td>\n",
       "      <td>90.000000</td>\n",
       "      <td>0.230000</td>\n",
       "      <td>0.000000</td>\n",
       "      <td>59.000000</td>\n",
       "      <td>38.981895</td>\n",
       "      <td>-76.940341</td>\n",
       "    </tr>\n",
       "    <tr>\n",
       "      <th>50%</th>\n",
       "      <td>2018.000000</td>\n",
       "      <td>1.000000</td>\n",
       "      <td>15.000000</td>\n",
       "      <td>NaN</td>\n",
       "      <td>0.000000</td>\n",
       "      <td>1.000000</td>\n",
       "      <td>11.000000</td>\n",
       "      <td>2.000000</td>\n",
       "      <td>1.000000</td>\n",
       "      <td>1.000000</td>\n",
       "      <td>...</td>\n",
       "      <td>6.010000</td>\n",
       "      <td>2.018093e+07</td>\n",
       "      <td>1.000000</td>\n",
       "      <td>0.000000</td>\n",
       "      <td>258.000000</td>\n",
       "      <td>1.650000</td>\n",
       "      <td>0.500000</td>\n",
       "      <td>355.000000</td>\n",
       "      <td>39.225461</td>\n",
       "      <td>-76.709834</td>\n",
       "    </tr>\n",
       "    <tr>\n",
       "      <th>75%</th>\n",
       "      <td>2020.000000</td>\n",
       "      <td>3.000000</td>\n",
       "      <td>18.000000</td>\n",
       "      <td>NaN</td>\n",
       "      <td>0.000000</td>\n",
       "      <td>2.000000</td>\n",
       "      <td>17.000000</td>\n",
       "      <td>2.000000</td>\n",
       "      <td>2.000000</td>\n",
       "      <td>1.000000</td>\n",
       "      <td>...</td>\n",
       "      <td>6.010000</td>\n",
       "      <td>2.020092e+07</td>\n",
       "      <td>3.000000</td>\n",
       "      <td>1.000000</td>\n",
       "      <td>912.000000</td>\n",
       "      <td>6.460000</td>\n",
       "      <td>50.000000</td>\n",
       "      <td>1666.000000</td>\n",
       "      <td>39.346254</td>\n",
       "      <td>-76.574147</td>\n",
       "    </tr>\n",
       "    <tr>\n",
       "      <th>max</th>\n",
       "      <td>2022.000000</td>\n",
       "      <td>99.000000</td>\n",
       "      <td>24.000000</td>\n",
       "      <td>NaN</td>\n",
       "      <td>999.000000</td>\n",
       "      <td>99.000000</td>\n",
       "      <td>99.000000</td>\n",
       "      <td>99.000000</td>\n",
       "      <td>18.000000</td>\n",
       "      <td>99.000000</td>\n",
       "      <td>...</td>\n",
       "      <td>99.000000</td>\n",
       "      <td>2.022093e+07</td>\n",
       "      <td>99.000000</td>\n",
       "      <td>99.000000</td>\n",
       "      <td>9922.000000</td>\n",
       "      <td>5100.000000</td>\n",
       "      <td>1000.000000</td>\n",
       "      <td>9921.000000</td>\n",
       "      <td>39.994802</td>\n",
       "      <td>-75.000000</td>\n",
       "    </tr>\n",
       "  </tbody>\n",
       "</table>\n",
       "<p>8 rows × 22 columns</p>\n",
       "</div>"
      ],
      "text/plain": [
       "                YEAR     LIGHT_CODE      COUNTY_NO  MUNI_DESC      MUNI_CODE  \\\n",
       "count  848804.000000  848804.000000  848791.000000        0.0  635918.000000   \n",
       "mean     2018.292162       3.920314      12.758671        NaN     103.102466   \n",
       "std         2.222439      13.463945       7.863632        NaN     288.485994   \n",
       "min      2015.000000       0.000000       1.000000        NaN       0.000000   \n",
       "25%      2016.000000       1.000000       3.000000        NaN       0.000000   \n",
       "50%      2018.000000       1.000000      15.000000        NaN       0.000000   \n",
       "75%      2020.000000       3.000000      18.000000        NaN       0.000000   \n",
       "max      2022.000000      99.000000      24.000000        NaN     999.000000   \n",
       "\n",
       "       JUNCTION_CODE  COLLISION_TYPE_CODE  SURF_COND_CODE      LANE_CODE  \\\n",
       "count  764448.000000        848804.000000   764448.000000  645134.000000   \n",
       "mean        2.654248            21.301865        2.650846       1.487601   \n",
       "std         9.991348            29.863128        9.131210       0.804584   \n",
       "min         0.000000             0.000000        0.000000       1.000000   \n",
       "25%         1.000000             3.000000        2.000000       1.000000   \n",
       "50%         1.000000            11.000000        2.000000       1.000000   \n",
       "75%         2.000000            17.000000        2.000000       2.000000   \n",
       "max        99.000000            99.000000       99.000000      18.000000   \n",
       "\n",
       "        RD_COND_CODE  ...   WEATHER_CODE      ACC_DATE  HARM_EVENT_CODE1  \\\n",
       "count  764448.000000  ...  848804.000000  8.488040e+05     848804.000000   \n",
       "mean        1.779313  ...       6.271491  2.018359e+07          3.946662   \n",
       "std         8.547742  ...      10.244158  2.220203e+04          8.571561   \n",
       "min         0.000000  ...       0.000000  2.015010e+07          0.000000   \n",
       "25%         1.000000  ...       6.010000  2.016111e+07          1.000000   \n",
       "50%         1.000000  ...       6.010000  2.018093e+07          1.000000   \n",
       "75%         1.000000  ...       6.010000  2.020092e+07          3.000000   \n",
       "max        99.000000  ...      99.000000  2.022093e+07         99.000000   \n",
       "\n",
       "       HARM_EVENT_CODE2         RTE_NO       LOG_MILE       DISTANCE  \\\n",
       "count     848804.000000  678672.000000  760951.000000  745912.000000   \n",
       "mean           2.129694     969.321136       4.817931      63.561981   \n",
       "std            7.514640    1632.210201       9.263772     141.342771   \n",
       "min            0.000000    -121.000000       0.000000       0.000000   \n",
       "25%            0.000000      90.000000       0.230000       0.000000   \n",
       "50%            0.000000     258.000000       1.650000       0.500000   \n",
       "75%            1.000000     912.000000       6.460000      50.000000   \n",
       "max           99.000000    9922.000000    5100.000000    1000.000000   \n",
       "\n",
       "        REFERENCE_NO       LATITUDE      LONGITUDE  \n",
       "count  671461.000000  848804.000000  848804.000000  \n",
       "mean     1282.173195      39.145036     -76.744918  \n",
       "std      1921.826956       0.310852       0.468617  \n",
       "min      -295.000000      37.000000     -79.996100  \n",
       "25%        59.000000      38.981895     -76.940341  \n",
       "50%       355.000000      39.225461     -76.709834  \n",
       "75%      1666.000000      39.346254     -76.574147  \n",
       "max      9921.000000      39.994802     -75.000000  \n",
       "\n",
       "[8 rows x 22 columns]"
      ]
     },
     "execution_count": 5,
     "metadata": {},
     "output_type": "execute_result"
    }
   ],
   "source": [
    "df.describe()"
   ]
  },
  {
   "cell_type": "code",
   "execution_count": 6,
   "id": "48642c90",
   "metadata": {},
   "outputs": [
    {
     "data": {
      "text/plain": [
       "YEAR                          0\n",
       "QUARTER                       0\n",
       "LIGHT_DESC                34855\n",
       "LIGHT_CODE                    0\n",
       "COUNTY_DESC                  13\n",
       "COUNTY_NO                    13\n",
       "MUNI_DESC                848804\n",
       "MUNI_CODE                212886\n",
       "JUNCTION_DESC            114236\n",
       "JUNCTION_CODE             84356\n",
       "COLLISION_TYPE_DESC           0\n",
       "COLLISION_TYPE_CODE           0\n",
       "SURF_COND_DESC            86726\n",
       "SURF_COND_CODE            84356\n",
       "LANE_CODE                203670\n",
       "RD_COND_DESC              84356\n",
       "RD_COND_CODE              84356\n",
       "RD_DIV_DESC               88855\n",
       "RD_DIV_CODE               84356\n",
       "FIX_OBJ_DESC              45511\n",
       "FIX_OBJ_CODE                  0\n",
       "REPORT_NO                     0\n",
       "REPORT_TYPE              110733\n",
       "WEATHER_DESC             406780\n",
       "WEATHER_CODE                  0\n",
       "ACC_DATE                      0\n",
       "ACC_TIME                      0\n",
       "LOC_CODE                 459726\n",
       "SIGNAL_FLAG_DESC              0\n",
       "SIGNAL_FLAG                   0\n",
       "C_M_ZONE_FLAG                 0\n",
       "AGENCY_CODE                   0\n",
       "AREA_CODE                     0\n",
       "HARM_EVENT_DESC1         595459\n",
       "HARM_EVENT_CODE1              0\n",
       "HARM_EVENT_DESC2              0\n",
       "HARM_EVENT_CODE2              0\n",
       "RTE_NO                   170132\n",
       "ROUTE_TYPE_CODE          168371\n",
       "RTE_SUFFIX               831431\n",
       "LOG_MILE                  87853\n",
       "LOGMILE_DIR_FLAG_DESC    165196\n",
       "LOGMILE_DIR_FLAG         165185\n",
       "MAINROAD_NAME             84364\n",
       "DISTANCE                 102892\n",
       "FEET_MILES_FLAG_DESC     575772\n",
       "FEET_MILES_FLAG           84357\n",
       "DISTANCE_DIR_FLAG         87734\n",
       "REFERENCE_NO             177343\n",
       "REFERENCE_TYPE_CODE      168131\n",
       "REFERENCE_SUFFIX         830405\n",
       "REFERENCE_ROAD_NAME       85139\n",
       "LATITUDE                      0\n",
       "LONGITUDE                     0\n",
       "LOCATION                      0\n",
       "dtype: int64"
      ]
     },
     "execution_count": 6,
     "metadata": {},
     "output_type": "execute_result"
    }
   ],
   "source": [
    "#checking the null values count for each column\n",
    "df.isnull().sum()"
   ]
  },
  {
   "cell_type": "code",
   "execution_count": 7,
   "id": "baf2b72d",
   "metadata": {},
   "outputs": [
    {
     "name": "stdout",
     "output_type": "stream",
     "text": [
      "<class 'pandas.core.frame.DataFrame'>\n",
      "RangeIndex: 848804 entries, 0 to 848803\n",
      "Data columns (total 55 columns):\n",
      " #   Column                 Non-Null Count   Dtype  \n",
      "---  ------                 --------------   -----  \n",
      " 0   YEAR                   848804 non-null  int64  \n",
      " 1   QUARTER                848804 non-null  object \n",
      " 2   LIGHT_DESC             813949 non-null  object \n",
      " 3   LIGHT_CODE             848804 non-null  float64\n",
      " 4   COUNTY_DESC            848791 non-null  object \n",
      " 5   COUNTY_NO              848791 non-null  float64\n",
      " 6   MUNI_DESC              0 non-null       float64\n",
      " 7   MUNI_CODE              635918 non-null  float64\n",
      " 8   JUNCTION_DESC          734568 non-null  object \n",
      " 9   JUNCTION_CODE          764448 non-null  float64\n",
      " 10  COLLISION_TYPE_DESC    848804 non-null  object \n",
      " 11  COLLISION_TYPE_CODE    848804 non-null  int64  \n",
      " 12  SURF_COND_DESC         762078 non-null  object \n",
      " 13  SURF_COND_CODE         764448 non-null  float64\n",
      " 14  LANE_CODE              645134 non-null  float64\n",
      " 15  RD_COND_DESC           764448 non-null  object \n",
      " 16  RD_COND_CODE           764448 non-null  float64\n",
      " 17  RD_DIV_DESC            759949 non-null  object \n",
      " 18  RD_DIV_CODE            764448 non-null  float64\n",
      " 19  FIX_OBJ_DESC           803293 non-null  object \n",
      " 20  FIX_OBJ_CODE           848804 non-null  float64\n",
      " 21  REPORT_NO              848804 non-null  object \n",
      " 22  REPORT_TYPE            738071 non-null  object \n",
      " 23  WEATHER_DESC           442024 non-null  object \n",
      " 24  WEATHER_CODE           848804 non-null  float64\n",
      " 25  ACC_DATE               848804 non-null  int64  \n",
      " 26  ACC_TIME               848804 non-null  object \n",
      " 27  LOC_CODE               389078 non-null  object \n",
      " 28  SIGNAL_FLAG_DESC       848804 non-null  object \n",
      " 29  SIGNAL_FLAG            848804 non-null  object \n",
      " 30  C_M_ZONE_FLAG          848804 non-null  object \n",
      " 31  AGENCY_CODE            848804 non-null  object \n",
      " 32  AREA_CODE              848804 non-null  object \n",
      " 33  HARM_EVENT_DESC1       253345 non-null  object \n",
      " 34  HARM_EVENT_CODE1       848804 non-null  float64\n",
      " 35  HARM_EVENT_DESC2       848804 non-null  object \n",
      " 36  HARM_EVENT_CODE2       848804 non-null  float64\n",
      " 37  RTE_NO                 678672 non-null  float64\n",
      " 38  ROUTE_TYPE_CODE        680433 non-null  object \n",
      " 39  RTE_SUFFIX             17373 non-null   object \n",
      " 40  LOG_MILE               760951 non-null  float64\n",
      " 41  LOGMILE_DIR_FLAG_DESC  683608 non-null  object \n",
      " 42  LOGMILE_DIR_FLAG       683619 non-null  object \n",
      " 43  MAINROAD_NAME          764440 non-null  object \n",
      " 44  DISTANCE               745912 non-null  float64\n",
      " 45  FEET_MILES_FLAG_DESC   273032 non-null  object \n",
      " 46  FEET_MILES_FLAG        764447 non-null  object \n",
      " 47  DISTANCE_DIR_FLAG      761070 non-null  object \n",
      " 48  REFERENCE_NO           671461 non-null  float64\n",
      " 49  REFERENCE_TYPE_CODE    680673 non-null  object \n",
      " 50  REFERENCE_SUFFIX       18399 non-null   object \n",
      " 51  REFERENCE_ROAD_NAME    763665 non-null  object \n",
      " 52  LATITUDE               848804 non-null  float64\n",
      " 53  LONGITUDE              848804 non-null  float64\n",
      " 54  LOCATION               848804 non-null  object \n",
      "dtypes: float64(19), int64(3), object(33)\n",
      "memory usage: 356.2+ MB\n"
     ]
    }
   ],
   "source": [
    "#To find if there are any null values\n",
    "df.info()"
   ]
  },
  {
   "cell_type": "code",
   "execution_count": 8,
   "id": "fbca4f13",
   "metadata": {},
   "outputs": [],
   "source": [
    "# dropping the columns which have more null values. these 3 columns have almost more than 90% nulls.\n",
    "df.drop(['MUNI_DESC','RTE_SUFFIX','REFERENCE_SUFFIX'],axis='columns',inplace=True)"
   ]
  },
  {
   "cell_type": "code",
   "execution_count": 9,
   "id": "81b8fbeb",
   "metadata": {},
   "outputs": [
    {
     "data": {
      "text/html": [
       "<div>\n",
       "<style scoped>\n",
       "    .dataframe tbody tr th:only-of-type {\n",
       "        vertical-align: middle;\n",
       "    }\n",
       "\n",
       "    .dataframe tbody tr th {\n",
       "        vertical-align: top;\n",
       "    }\n",
       "\n",
       "    .dataframe thead th {\n",
       "        text-align: right;\n",
       "    }\n",
       "</style>\n",
       "<table border=\"1\" class=\"dataframe\">\n",
       "  <thead>\n",
       "    <tr style=\"text-align: right;\">\n",
       "      <th></th>\n",
       "      <th>YEAR</th>\n",
       "      <th>QUARTER</th>\n",
       "      <th>LIGHT_DESC</th>\n",
       "      <th>LIGHT_CODE</th>\n",
       "      <th>COUNTY_DESC</th>\n",
       "      <th>COUNTY_NO</th>\n",
       "      <th>MUNI_CODE</th>\n",
       "      <th>JUNCTION_DESC</th>\n",
       "      <th>JUNCTION_CODE</th>\n",
       "      <th>COLLISION_TYPE_DESC</th>\n",
       "      <th>...</th>\n",
       "      <th>DISTANCE</th>\n",
       "      <th>FEET_MILES_FLAG_DESC</th>\n",
       "      <th>FEET_MILES_FLAG</th>\n",
       "      <th>DISTANCE_DIR_FLAG</th>\n",
       "      <th>REFERENCE_NO</th>\n",
       "      <th>REFERENCE_TYPE_CODE</th>\n",
       "      <th>REFERENCE_ROAD_NAME</th>\n",
       "      <th>LATITUDE</th>\n",
       "      <th>LONGITUDE</th>\n",
       "      <th>LOCATION</th>\n",
       "    </tr>\n",
       "  </thead>\n",
       "  <tbody>\n",
       "  </tbody>\n",
       "</table>\n",
       "<p>0 rows × 52 columns</p>\n",
       "</div>"
      ],
      "text/plain": [
       "Empty DataFrame\n",
       "Columns: [YEAR, QUARTER, LIGHT_DESC, LIGHT_CODE, COUNTY_DESC, COUNTY_NO, MUNI_CODE, JUNCTION_DESC, JUNCTION_CODE, COLLISION_TYPE_DESC, COLLISION_TYPE_CODE, SURF_COND_DESC, SURF_COND_CODE, LANE_CODE, RD_COND_DESC, RD_COND_CODE, RD_DIV_DESC, RD_DIV_CODE, FIX_OBJ_DESC, FIX_OBJ_CODE, REPORT_NO, REPORT_TYPE, WEATHER_DESC, WEATHER_CODE, ACC_DATE, ACC_TIME, LOC_CODE, SIGNAL_FLAG_DESC, SIGNAL_FLAG, C_M_ZONE_FLAG, AGENCY_CODE, AREA_CODE, HARM_EVENT_DESC1, HARM_EVENT_CODE1, HARM_EVENT_DESC2, HARM_EVENT_CODE2, RTE_NO, ROUTE_TYPE_CODE, LOG_MILE, LOGMILE_DIR_FLAG_DESC, LOGMILE_DIR_FLAG, MAINROAD_NAME, DISTANCE, FEET_MILES_FLAG_DESC, FEET_MILES_FLAG, DISTANCE_DIR_FLAG, REFERENCE_NO, REFERENCE_TYPE_CODE, REFERENCE_ROAD_NAME, LATITUDE, LONGITUDE, LOCATION]\n",
       "Index: []\n",
       "\n",
       "[0 rows x 52 columns]"
      ]
     },
     "execution_count": 9,
     "metadata": {},
     "output_type": "execute_result"
    }
   ],
   "source": [
    "#checking the duplicates in df\n",
    "dup = df[df.duplicated()]\n",
    "dup"
   ]
  },
  {
   "cell_type": "code",
   "execution_count": 10,
   "id": "807e8732",
   "metadata": {},
   "outputs": [],
   "source": [
    "#the MUNI_CODE which is numerical representation of MUNI_DESC.Hence dropping it from the df.\n",
    "df.drop(['MUNI_CODE'],axis='columns',inplace=True)"
   ]
  },
  {
   "cell_type": "code",
   "execution_count": 11,
   "id": "ce17ea23",
   "metadata": {},
   "outputs": [
    {
     "data": {
      "text/plain": [
       "(848804, 51)"
      ]
     },
     "execution_count": 11,
     "metadata": {},
     "output_type": "execute_result"
    }
   ],
   "source": [
    "df.shape"
   ]
  },
  {
   "cell_type": "code",
   "execution_count": 12,
   "id": "48004564",
   "metadata": {},
   "outputs": [],
   "source": [
    "#dropping the columns which don't have predictive power \n",
    "df.drop(['AREA_CODE','MAINROAD_NAME','REFERENCE_ROAD_NAME','LOCATION',\n",
    "                           'REPORT_NO','LOC_CODE','REFERENCE_TYPE_CODE','AGENCY_CODE','FEET_MILES_FLAG','SIGNAL_FLAG','LOGMILE_DIR_FLAG','ROUTE_TYPE_CODE'], axis = 'columns',inplace=True)"
   ]
  },
  {
   "cell_type": "code",
   "execution_count": 13,
   "id": "b4d4a4ce",
   "metadata": {},
   "outputs": [
    {
     "data": {
      "text/plain": [
       "(848804, 39)"
      ]
     },
     "execution_count": 13,
     "metadata": {},
     "output_type": "execute_result"
    }
   ],
   "source": [
    "df.shape"
   ]
  },
  {
   "cell_type": "code",
   "execution_count": 14,
   "id": "95965957",
   "metadata": {},
   "outputs": [
    {
     "name": "stdout",
     "output_type": "stream",
     "text": [
      "<class 'pandas.core.frame.DataFrame'>\n",
      "RangeIndex: 848804 entries, 0 to 848803\n",
      "Data columns (total 39 columns):\n",
      " #   Column                 Non-Null Count   Dtype  \n",
      "---  ------                 --------------   -----  \n",
      " 0   YEAR                   848804 non-null  int64  \n",
      " 1   QUARTER                848804 non-null  object \n",
      " 2   LIGHT_DESC             813949 non-null  object \n",
      " 3   LIGHT_CODE             848804 non-null  float64\n",
      " 4   COUNTY_DESC            848791 non-null  object \n",
      " 5   COUNTY_NO              848791 non-null  float64\n",
      " 6   JUNCTION_DESC          734568 non-null  object \n",
      " 7   JUNCTION_CODE          764448 non-null  float64\n",
      " 8   COLLISION_TYPE_DESC    848804 non-null  object \n",
      " 9   COLLISION_TYPE_CODE    848804 non-null  int64  \n",
      " 10  SURF_COND_DESC         762078 non-null  object \n",
      " 11  SURF_COND_CODE         764448 non-null  float64\n",
      " 12  LANE_CODE              645134 non-null  float64\n",
      " 13  RD_COND_DESC           764448 non-null  object \n",
      " 14  RD_COND_CODE           764448 non-null  float64\n",
      " 15  RD_DIV_DESC            759949 non-null  object \n",
      " 16  RD_DIV_CODE            764448 non-null  float64\n",
      " 17  FIX_OBJ_DESC           803293 non-null  object \n",
      " 18  FIX_OBJ_CODE           848804 non-null  float64\n",
      " 19  REPORT_TYPE            738071 non-null  object \n",
      " 20  WEATHER_DESC           442024 non-null  object \n",
      " 21  WEATHER_CODE           848804 non-null  float64\n",
      " 22  ACC_DATE               848804 non-null  int64  \n",
      " 23  ACC_TIME               848804 non-null  object \n",
      " 24  SIGNAL_FLAG_DESC       848804 non-null  object \n",
      " 25  C_M_ZONE_FLAG          848804 non-null  object \n",
      " 26  HARM_EVENT_DESC1       253345 non-null  object \n",
      " 27  HARM_EVENT_CODE1       848804 non-null  float64\n",
      " 28  HARM_EVENT_DESC2       848804 non-null  object \n",
      " 29  HARM_EVENT_CODE2       848804 non-null  float64\n",
      " 30  RTE_NO                 678672 non-null  float64\n",
      " 31  LOG_MILE               760951 non-null  float64\n",
      " 32  LOGMILE_DIR_FLAG_DESC  683608 non-null  object \n",
      " 33  DISTANCE               745912 non-null  float64\n",
      " 34  FEET_MILES_FLAG_DESC   273032 non-null  object \n",
      " 35  DISTANCE_DIR_FLAG      761070 non-null  object \n",
      " 36  REFERENCE_NO           671461 non-null  float64\n",
      " 37  LATITUDE               848804 non-null  float64\n",
      " 38  LONGITUDE              848804 non-null  float64\n",
      "dtypes: float64(17), int64(3), object(19)\n",
      "memory usage: 252.6+ MB\n"
     ]
    }
   ],
   "source": [
    "df.info()"
   ]
  },
  {
   "cell_type": "code",
   "execution_count": 15,
   "id": "6d807d46",
   "metadata": {},
   "outputs": [],
   "source": [
    "#There are few columns that numerically correspond identically to other columns. So, i am removing those columns.\n",
    "df.drop(['LIGHT_CODE','COUNTY_NO','JUNCTION_CODE','COLLISION_TYPE_CODE','SURF_COND_CODE','LANE_CODE','RD_COND_CODE','RD_DIV_CODE','FIX_OBJ_CODE','WEATHER_CODE','HARM_EVENT_CODE1','HARM_EVENT_CODE2'], \n",
    "                          axis = 'columns',\n",
    "                         inplace = True)"
   ]
  },
  {
   "cell_type": "code",
   "execution_count": 16,
   "id": "baa1821d",
   "metadata": {},
   "outputs": [
    {
     "name": "stdout",
     "output_type": "stream",
     "text": [
      "<class 'pandas.core.frame.DataFrame'>\n",
      "RangeIndex: 848804 entries, 0 to 848803\n",
      "Data columns (total 27 columns):\n",
      " #   Column                 Non-Null Count   Dtype  \n",
      "---  ------                 --------------   -----  \n",
      " 0   YEAR                   848804 non-null  int64  \n",
      " 1   QUARTER                848804 non-null  object \n",
      " 2   LIGHT_DESC             813949 non-null  object \n",
      " 3   COUNTY_DESC            848791 non-null  object \n",
      " 4   JUNCTION_DESC          734568 non-null  object \n",
      " 5   COLLISION_TYPE_DESC    848804 non-null  object \n",
      " 6   SURF_COND_DESC         762078 non-null  object \n",
      " 7   RD_COND_DESC           764448 non-null  object \n",
      " 8   RD_DIV_DESC            759949 non-null  object \n",
      " 9   FIX_OBJ_DESC           803293 non-null  object \n",
      " 10  REPORT_TYPE            738071 non-null  object \n",
      " 11  WEATHER_DESC           442024 non-null  object \n",
      " 12  ACC_DATE               848804 non-null  int64  \n",
      " 13  ACC_TIME               848804 non-null  object \n",
      " 14  SIGNAL_FLAG_DESC       848804 non-null  object \n",
      " 15  C_M_ZONE_FLAG          848804 non-null  object \n",
      " 16  HARM_EVENT_DESC1       253345 non-null  object \n",
      " 17  HARM_EVENT_DESC2       848804 non-null  object \n",
      " 18  RTE_NO                 678672 non-null  float64\n",
      " 19  LOG_MILE               760951 non-null  float64\n",
      " 20  LOGMILE_DIR_FLAG_DESC  683608 non-null  object \n",
      " 21  DISTANCE               745912 non-null  float64\n",
      " 22  FEET_MILES_FLAG_DESC   273032 non-null  object \n",
      " 23  DISTANCE_DIR_FLAG      761070 non-null  object \n",
      " 24  REFERENCE_NO           671461 non-null  float64\n",
      " 25  LATITUDE               848804 non-null  float64\n",
      " 26  LONGITUDE              848804 non-null  float64\n",
      "dtypes: float64(6), int64(2), object(19)\n",
      "memory usage: 174.8+ MB\n"
     ]
    }
   ],
   "source": [
    "df.info()"
   ]
  },
  {
   "cell_type": "code",
   "execution_count": 17,
   "id": "71958f90",
   "metadata": {},
   "outputs": [],
   "source": [
    "# there are few nulls in the some of the columns I will handle this nulls when I create the pipelines for ml models. "
   ]
  },
  {
   "cell_type": "markdown",
   "id": "ce134bbf",
   "metadata": {},
   "source": [
    "#  TARGET VARIABLE"
   ]
  },
  {
   "cell_type": "code",
   "execution_count": 18,
   "id": "acdb4b18",
   "metadata": {},
   "outputs": [],
   "source": [
    "#  Target variable is REPORT TYPE. Property Damage Crash, Injury Crash, and Fatal Crash are all various classes that are included in the target variable. Injury crash and fatal crash are nearly identical. "
   ]
  },
  {
   "cell_type": "code",
   "execution_count": 19,
   "id": "56b7ea7b",
   "metadata": {},
   "outputs": [],
   "source": [
    "#dropping all the null values in target variable \n",
    "df = df.dropna(subset = ['REPORT_TYPE'])"
   ]
  },
  {
   "cell_type": "code",
   "execution_count": 20,
   "id": "6a197928",
   "metadata": {},
   "outputs": [],
   "source": [
    "#replacing the class in target varaible \n",
    "df['REPORT_TYPE'] = df['REPORT_TYPE'].replace({'Fatal Crash':'Injury Crash'})"
   ]
  },
  {
   "cell_type": "code",
   "execution_count": 21,
   "id": "9a495b17",
   "metadata": {},
   "outputs": [
    {
     "data": {
      "text/plain": [
       "Property Damage Crash    528441\n",
       "Injury Crash             209630\n",
       "Name: REPORT_TYPE, dtype: int64"
      ]
     },
     "execution_count": 21,
     "metadata": {},
     "output_type": "execute_result"
    }
   ],
   "source": [
    "df.REPORT_TYPE.value_counts() # value count for target variable"
   ]
  },
  {
   "cell_type": "code",
   "execution_count": 22,
   "id": "2cb234d8",
   "metadata": {},
   "outputs": [
    {
     "data": {
      "text/plain": [
       "<AxesSubplot:>"
      ]
     },
     "execution_count": 22,
     "metadata": {},
     "output_type": "execute_result"
    },
    {
     "data": {
      "image/png": "[encoded data removed]",
      "text/plain": [
       "<Figure size 432x288 with 1 Axes>"
      ]
     },
     "metadata": {
      "needs_background": "light"
     },
     "output_type": "display_data"
    }
   ],
   "source": [
    "df['REPORT_TYPE'].value_counts().plot.bar() # bar plot for target variable"
   ]
  },
  {
   "cell_type": "markdown",
   "id": "30e1165f",
   "metadata": {},
   "source": [
    "# Modeling using ML"
   ]
  },
  {
   "cell_type": "markdown",
   "id": "5e8e5cf1",
   "metadata": {},
   "source": [
    "Splitting data for test-train split"
   ]
  },
  {
   "cell_type": "code",
   "execution_count": 23,
   "id": "406ad375",
   "metadata": {},
   "outputs": [
    {
     "name": "stdout",
     "output_type": "stream",
     "text": [
      "Training examples of maryland vehicle crashes : 590456\n",
      "Test examples of maryland vehicle crashes: 147615\n",
      "\n",
      "Feature names are:\n",
      "YEAR\tQUARTER\tLIGHT_DESC\tCOUNTY_DESC\tJUNCTION_DESC\tCOLLISION_TYPE_DESC\tSURF_COND_DESC\tRD_COND_DESC\tRD_DIV_DESC\tFIX_OBJ_DESC\tWEATHER_DESC\tACC_DATE\tACC_TIME\tSIGNAL_FLAG_DESC\tC_M_ZONE_FLAG\tHARM_EVENT_DESC1\tHARM_EVENT_DESC2\tRTE_NO\tLOG_MILE\tLOGMILE_DIR_FLAG_DESC\tDISTANCE\tFEET_MILES_FLAG_DESC\tDISTANCE_DIR_FLAG\tREFERENCE_NO\tLATITUDE\tLONGITUDE\n"
     ]
    }
   ],
   "source": [
    "X = df[[x for x in df.columns if x != 'REPORT_TYPE']] # X contains all the variables other than target column.\n",
    "y = df['REPORT_TYPE'] # Y contains the target conlumn\n",
    "\n",
    "X_train, X_test, y_train, y_test = train_test_split(X, y, test_size = 0.2, random_state = 3000) # splitting the date into 80% training and 20% testing.\n",
    "\n",
    "\n",
    "print(f'Training examples of maryland vehicle crashes : {X_train.shape[0]}')\n",
    "print(f'Test examples of maryland vehicle crashes: {X_test.shape[0]}')\n",
    "print('\\nFeature names are:')\n",
    "print(*X.columns, sep='\\t')"
   ]
  },
  {
   "cell_type": "code",
   "execution_count": 24,
   "id": "45becbfe",
   "metadata": {},
   "outputs": [],
   "source": [
    "numerical = list(df.select_dtypes(['int64']).columns | df.select_dtypes(['float64']).columns)\n",
    "categorical = list(df.select_dtypes(['object']).columns)"
   ]
  },
  {
   "cell_type": "markdown",
   "id": "d2f8b7f9",
   "metadata": {},
   "source": [
    "Dividing numerical variables column and categorical variables column using select dtypes function"
   ]
  },
  {
   "cell_type": "code",
   "execution_count": 25,
   "id": "14e748c3",
   "metadata": {},
   "outputs": [
    {
     "data": {
      "text/plain": [
       "['ACC_DATE',\n",
       " 'DISTANCE',\n",
       " 'LATITUDE',\n",
       " 'LOG_MILE',\n",
       " 'LONGITUDE',\n",
       " 'REFERENCE_NO',\n",
       " 'RTE_NO',\n",
       " 'YEAR']"
      ]
     },
     "execution_count": 25,
     "metadata": {},
     "output_type": "execute_result"
    }
   ],
   "source": [
    "numerical"
   ]
  },
  {
   "cell_type": "code",
   "execution_count": 26,
   "id": "3b6ccfa8",
   "metadata": {},
   "outputs": [
    {
     "data": {
      "text/plain": [
       "['QUARTER',\n",
       " 'LIGHT_DESC',\n",
       " 'COUNTY_DESC',\n",
       " 'JUNCTION_DESC',\n",
       " 'COLLISION_TYPE_DESC',\n",
       " 'SURF_COND_DESC',\n",
       " 'RD_COND_DESC',\n",
       " 'RD_DIV_DESC',\n",
       " 'FIX_OBJ_DESC',\n",
       " 'REPORT_TYPE',\n",
       " 'WEATHER_DESC',\n",
       " 'ACC_TIME',\n",
       " 'SIGNAL_FLAG_DESC',\n",
       " 'C_M_ZONE_FLAG',\n",
       " 'HARM_EVENT_DESC1',\n",
       " 'HARM_EVENT_DESC2',\n",
       " 'LOGMILE_DIR_FLAG_DESC',\n",
       " 'FEET_MILES_FLAG_DESC',\n",
       " 'DISTANCE_DIR_FLAG']"
      ]
     },
     "execution_count": 26,
     "metadata": {},
     "output_type": "execute_result"
    }
   ],
   "source": [
    "categorical"
   ]
  },
  {
   "cell_type": "code",
   "execution_count": 27,
   "id": "675ca299",
   "metadata": {},
   "outputs": [],
   "source": [
    "# Removing unneccesory columns\n",
    "numerical.remove('LATITUDE')\n",
    "numerical.remove('LONGITUDE')\n",
    "numerical.remove('REFERENCE_NO')"
   ]
  },
  {
   "cell_type": "code",
   "execution_count": 28,
   "id": "f0ad2780",
   "metadata": {},
   "outputs": [],
   "source": [
    "# Removing the target column\n",
    "categorical.remove('REPORT_TYPE')"
   ]
  },
  {
   "cell_type": "markdown",
   "id": "24c1432c",
   "metadata": {},
   "source": [
    "Reference : https://github.com/appliedecon/data602-lectures/blob/main/sklearn-pipeline-example/credit.ipynb"
   ]
  },
  {
   "cell_type": "code",
   "execution_count": 29,
   "id": "06d63383",
   "metadata": {},
   "outputs": [
    {
     "data": {
      "text/plain": [
       "(590456, 1669)"
      ]
     },
     "execution_count": 29,
     "metadata": {},
     "output_type": "execute_result"
    }
   ],
   "source": [
    "cat_pipeline = Pipeline([('impute_missing', SimpleImputer(strategy='most_frequent')),('create_dummies_cats', OneHotEncoder(handle_unknown='ignore'))])\n",
    "y = cat_pipeline.fit_transform(np.array(X_train[categorical]))\n",
    "y.shape"
   ]
  },
  {
   "cell_type": "code",
   "execution_count": 30,
   "id": "0e0cdf3f",
   "metadata": {},
   "outputs": [
    {
     "data": {
      "text/plain": [
       "(590456, 5)"
      ]
     },
     "execution_count": 30,
     "metadata": {},
     "output_type": "execute_result"
    }
   ],
   "source": [
    "num_pipeline = Pipeline([('impute_missing', SimpleImputer(strategy='median')),\n",
    "                           ('standardize_num', StandardScaler())\n",
    "                        ])\n",
    "x = num_pipeline.fit_transform(np.array(X_train[numerical]))\n",
    "x.shape"
   ]
  },
  {
   "cell_type": "code",
   "execution_count": 31,
   "id": "86e6b23a",
   "metadata": {},
   "outputs": [
    {
     "data": {
      "text/plain": [
       "<590456x1674 sparse matrix of type '<class 'numpy.float64'>'\n",
       "\twith 13580488 stored elements in Compressed Sparse Row format>"
      ]
     },
     "execution_count": 31,
     "metadata": {},
     "output_type": "execute_result"
    }
   ],
   "source": [
    "processing_pipeline = ColumnTransformer(transformers=[('proc_numericlist', num_pipeline, numerical),\n",
    "                                                      ('create_dummies', cat_pipeline, categorical)])\n",
    "z = processing_pipeline.fit_transform(X_train)\n",
    "z"
   ]
  },
  {
   "cell_type": "code",
   "execution_count": 32,
   "id": "1a55983f",
   "metadata": {},
   "outputs": [
    {
     "data": {
      "text/plain": [
       "ColumnTransformer(transformers=[('proc_numericlist',\n",
       "                                 Pipeline(steps=[('impute_missing',\n",
       "                                                  SimpleImputer(strategy='median')),\n",
       "                                                 ('standardize_num',\n",
       "                                                  StandardScaler())]),\n",
       "                                 ['ACC_DATE', 'DISTANCE', 'LOG_MILE', 'RTE_NO',\n",
       "                                  'YEAR']),\n",
       "                                ('create_dummies',\n",
       "                                 Pipeline(steps=[('impute_missing',\n",
       "                                                  SimpleImputer(strategy='most_frequent')),\n",
       "                                                 ('create_dummies_cats',\n",
       "                                                  OneHotEncoder(handle_unknown='ignore'))]),\n",
       "                                 ['QUARTER', 'LIGHT_DESC', 'COUNTY_DESC',\n",
       "                                  'JUNCTION_DESC', 'COLLISION_TYPE_DESC',\n",
       "                                  'SURF_COND_DESC', 'RD_COND_DESC',\n",
       "                                  'RD_DIV_DESC', 'FIX_OBJ_DESC', 'WEATHER_DESC',\n",
       "                                  'ACC_TIME', 'SIGNAL_FLAG_DESC',\n",
       "                                  'C_M_ZONE_FLAG', 'HARM_EVENT_DESC1',\n",
       "                                  'HARM_EVENT_DESC2', 'LOGMILE_DIR_FLAG_DESC',\n",
       "                                  'FEET_MILES_FLAG_DESC',\n",
       "                                  'DISTANCE_DIR_FLAG'])])"
      ]
     },
     "execution_count": 32,
     "metadata": {},
     "output_type": "execute_result"
    }
   ],
   "source": [
    "processing_pipeline"
   ]
  },
  {
   "cell_type": "markdown",
   "id": "06b7a5aa",
   "metadata": {},
   "source": [
    "numerical columns is processed with simple imputer and standard scaler and categorical variables are processed with Simple imputer and OneHotEncoder."
   ]
  },
  {
   "cell_type": "markdown",
   "id": "353f7817",
   "metadata": {},
   "source": [
    "# Modeling with Logistic regression"
   ]
  },
  {
   "cell_type": "markdown",
   "id": "0936faf0",
   "metadata": {},
   "source": [
    "Reference: https://github.com/appliedecon/data602-lectures/blob/main/logistic-regression/logistic-regression.ipynb"
   ]
  },
  {
   "cell_type": "code",
   "execution_count": 33,
   "id": "00d715a7",
   "metadata": {},
   "outputs": [
    {
     "data": {
      "text/plain": [
       "Pipeline(steps=[('process',\n",
       "                 ColumnTransformer(transformers=[('proc_numericlist',\n",
       "                                                  Pipeline(steps=[('impute_missing',\n",
       "                                                                   SimpleImputer(strategy='median')),\n",
       "                                                                  ('standardize_num',\n",
       "                                                                   StandardScaler())]),\n",
       "                                                  ['ACC_DATE', 'DISTANCE',\n",
       "                                                   'LOG_MILE', 'RTE_NO',\n",
       "                                                   'YEAR']),\n",
       "                                                 ('create_dummies',\n",
       "                                                  Pipeline(steps=[('impute_missing',\n",
       "                                                                   SimpleImputer(strategy='most_frequent')),\n",
       "                                                                  ('create_dummies_ca...\n",
       "                                                  ['QUARTER', 'LIGHT_DESC',\n",
       "                                                   'COUNTY_DESC',\n",
       "                                                   'JUNCTION_DESC',\n",
       "                                                   'COLLISION_TYPE_DESC',\n",
       "                                                   'SURF_COND_DESC',\n",
       "                                                   'RD_COND_DESC',\n",
       "                                                   'RD_DIV_DESC',\n",
       "                                                   'FIX_OBJ_DESC',\n",
       "                                                   'WEATHER_DESC', 'ACC_TIME',\n",
       "                                                   'SIGNAL_FLAG_DESC',\n",
       "                                                   'C_M_ZONE_FLAG',\n",
       "                                                   'HARM_EVENT_DESC1',\n",
       "                                                   'HARM_EVENT_DESC2',\n",
       "                                                   'LOGMILE_DIR_FLAG_DESC',\n",
       "                                                   'FEET_MILES_FLAG_DESC',\n",
       "                                                   'DISTANCE_DIR_FLAG'])])),\n",
       "                ('model', LogisticRegression(C=0.1, max_iter=1000))])"
      ]
     },
     "execution_count": 33,
     "metadata": {},
     "output_type": "execute_result"
    }
   ],
   "source": [
    "p = Pipeline([('process', processing_pipeline), \n",
    "              ('model', LogisticRegression(max_iter=1000))\n",
    "             ])\n",
    "\n",
    "params = [{'model__C': [0.01, 0.1, 1, 10],'model__penalty':['l2']},{'model__penalty':['none']}]\n",
    "\n",
    "logistic = GridSearchCV(p, param_grid=params, scoring='accuracy', cv=10, refit=True)\n",
    "logistic = logistic.fit(X_train, y_train)\n",
    "\n",
    "logistic.best_estimator_"
   ]
  },
  {
   "cell_type": "code",
   "execution_count": 34,
   "id": "855cff26",
   "metadata": {},
   "outputs": [],
   "source": [
    "y_hat_lr = logistic.best_estimator_.predict(X_test)"
   ]
  },
  {
   "cell_type": "code",
   "execution_count": 35,
   "id": "3b9a54b0",
   "metadata": {},
   "outputs": [
    {
     "name": "stdout",
     "output_type": "stream",
     "text": [
      "Validation score: 73.29%\n",
      "Test score: 73.22%\n"
     ]
    }
   ],
   "source": [
    "print(f'Validation score: {logistic.best_score_:.2%}')\n",
    "print(f'Test score: {logistic.score(X_test, y_test):.2%}')"
   ]
  },
  {
   "cell_type": "code",
   "execution_count": 36,
   "id": "03a8106a",
   "metadata": {},
   "outputs": [
    {
     "name": "stdout",
     "output_type": "stream",
     "text": [
      "                       precision    recall  f1-score   support\n",
      "\n",
      "         Injury Crash       0.63      0.15      0.25     42111\n",
      "Property Damage Crash       0.74      0.96      0.84    105504\n",
      "\n",
      "             accuracy                           0.73    147615\n",
      "            macro avg       0.68      0.56      0.54    147615\n",
      "         weighted avg       0.71      0.73      0.67    147615\n",
      "\n"
     ]
    }
   ],
   "source": [
    "from sklearn.metrics import classification_report\n",
    "print(classification_report(y_test, y_hat_lr))"
   ]
  },
  {
   "cell_type": "markdown",
   "id": "afc22422",
   "metadata": {},
   "source": [
    "# ROC-AUC Curve for LogisticRegression"
   ]
  },
  {
   "cell_type": "code",
   "execution_count": 37,
   "id": "da6939e3",
   "metadata": {},
   "outputs": [
    {
     "data": {
      "image/png": "[encoded data removed]",
      "text/plain": [
       "<Figure size 432x288 with 1 Axes>"
      ]
     },
     "metadata": {
      "needs_background": "light"
     },
     "output_type": "display_data"
    }
   ],
   "source": [
    "from sklearn.metrics import roc_curve\n",
    "\n",
    "def generate_probs_lr(X, model = logistic ):\n",
    "    return model.predict_proba(X)[:, 1]\n",
    "\n",
    "def generate_roc_lr(y, probs):\n",
    "    fpr, tpr, _ = roc_curve(y, probs)\n",
    "    return fpr, tpr\n",
    "y_test_roc = y_test.map({'Property Damage Crash': 1, 'Injury Crash': 0}).astype(int)\n",
    "y_train_roc = y_train.map({'Property Damage Crash': 1, 'Injury Crash': 0}).astype(int)   \n",
    "fpr_test, tpr_test = generate_roc_lr(y_test_roc, generate_probs_lr(X_test))\n",
    "fpr_train, tpr_train = generate_roc_lr(y_train_roc, generate_probs_lr(X_train))\n",
    "\n",
    "plt.plot(fpr_test, tpr_test,'-r')\n",
    "plt.plot(fpr_train, tpr_train,'-b')\n",
    "plt.xlabel('False Positive Rate')\n",
    "plt.ylabel('True Positive Rate')\n",
    "plt.legend(['Test','Training'])\n",
    "plt.plot([0, 1], [0, 1], color='navy', linestyle='--')\n",
    "plt.show()"
   ]
  },
  {
   "cell_type": "code",
   "execution_count": 38,
   "id": "0122ee70",
   "metadata": {},
   "outputs": [
    {
     "data": {
      "text/plain": [
       "0.6994337920677769"
      ]
     },
     "execution_count": 38,
     "metadata": {},
     "output_type": "execute_result"
    }
   ],
   "source": [
    "from sklearn.metrics import roc_auc_score\n",
    "\n",
    "roc_auc_score(y_test, generate_probs_lr(X_test))"
   ]
  },
  {
   "cell_type": "markdown",
   "id": "194cdf3a",
   "metadata": {},
   "source": [
    "Accuracy of 73% can be considered a good discrimination. I choose roc_auc_score as a metric to decide the model. For this classifier, ROC_AUC score is 70%."
   ]
  },
  {
   "cell_type": "markdown",
   "id": "7c9d7757",
   "metadata": {},
   "source": [
    "# Modeling with Random Forest"
   ]
  },
  {
   "cell_type": "markdown",
   "id": "b2b60b14",
   "metadata": {},
   "source": [
    "Reference:https://github.com/appliedecon/data602-lectures/blob/main/trees/trees.ipynb"
   ]
  },
  {
   "cell_type": "code",
   "execution_count": 39,
   "id": "0d984637",
   "metadata": {},
   "outputs": [
    {
     "data": {
      "text/plain": [
       "Pipeline(steps=[('data_processing',\n",
       "                 ColumnTransformer(transformers=[('proc_numericlist',\n",
       "                                                  Pipeline(steps=[('impute_missing',\n",
       "                                                                   SimpleImputer(strategy='median')),\n",
       "                                                                  ('standardize_num',\n",
       "                                                                   StandardScaler())]),\n",
       "                                                  ['ACC_DATE', 'DISTANCE',\n",
       "                                                   'LOG_MILE', 'RTE_NO',\n",
       "                                                   'YEAR']),\n",
       "                                                 ('create_dummies',\n",
       "                                                  Pipeline(steps=[('impute_missing',\n",
       "                                                                   SimpleImputer(strategy='most_frequent')),\n",
       "                                                                  ('create_du...\n",
       "                                                   'COLLISION_TYPE_DESC',\n",
       "                                                   'SURF_COND_DESC',\n",
       "                                                   'RD_COND_DESC',\n",
       "                                                   'RD_DIV_DESC',\n",
       "                                                   'FIX_OBJ_DESC',\n",
       "                                                   'WEATHER_DESC', 'ACC_TIME',\n",
       "                                                   'SIGNAL_FLAG_DESC',\n",
       "                                                   'C_M_ZONE_FLAG',\n",
       "                                                   'HARM_EVENT_DESC1',\n",
       "                                                   'HARM_EVENT_DESC2',\n",
       "                                                   'LOGMILE_DIR_FLAG_DESC',\n",
       "                                                   'FEET_MILES_FLAG_DESC',\n",
       "                                                   'DISTANCE_DIR_FLAG'])])),\n",
       "                ('rf',\n",
       "                 RandomForestClassifier(class_weight='balanced', max_depth=5,\n",
       "                                        max_samples=878, n_estimators=10))])"
      ]
     },
     "execution_count": 39,
     "metadata": {},
     "output_type": "execute_result"
    }
   ],
   "source": [
    "import warnings\n",
    "warnings.filterwarnings('ignore')\n",
    "from sklearn.pipeline import Pipeline\n",
    "from sklearn.model_selection import GridSearchCV\n",
    "from sklearn.ensemble import RandomForestClassifier\n",
    "\n",
    "\n",
    "\n",
    "rf_pipeline = Pipeline([\n",
    "    ('data_processing', processing_pipeline),\n",
    "    ('rf', RandomForestClassifier())]\n",
    ")\n",
    "\n",
    "param_grid = [{'rf__max_depth': [5, 8, 10],\n",
    "               'rf__n_estimators': [10, 50],\n",
    "               'rf__class_weight': [ 'balanced', 'balanced_subsample'],\n",
    "               'rf__max_samples': [878]\n",
    "              }]\n",
    "\n",
    "rf_results = GridSearchCV(estimator=rf_pipeline, param_grid=param_grid, scoring='recall', refit=True)\n",
    "rf_results = rf_results.fit(X_train, y_train)\n",
    "rf_yhat = rf_results.predict(X_test)\n",
    "\n",
    "rf_results.best_estimator_"
   ]
  },
  {
   "cell_type": "code",
   "execution_count": 40,
   "id": "616f4466",
   "metadata": {},
   "outputs": [
    {
     "name": "stdout",
     "output_type": "stream",
     "text": [
      "                       precision    recall  f1-score   support\n",
      "\n",
      "         Injury Crash       0.37      0.56      0.44     42111\n",
      "Property Damage Crash       0.78      0.61      0.68    105504\n",
      "\n",
      "             accuracy                           0.60    147615\n",
      "            macro avg       0.57      0.59      0.56    147615\n",
      "         weighted avg       0.66      0.60      0.61    147615\n",
      "\n"
     ]
    }
   ],
   "source": [
    "y_testp = rf_results.predict(X_test)\n",
    "y_testp_rf = rf_results.predict_proba(X_test)\n",
    "\n",
    "from sklearn.metrics import classification_report\n",
    "print(classification_report(y_test, y_testp))"
   ]
  },
  {
   "cell_type": "markdown",
   "id": "753bed1e",
   "metadata": {},
   "source": [
    "# ROC-AUC Curve for Random Forest"
   ]
  },
  {
   "cell_type": "code",
   "execution_count": 41,
   "id": "9615db0b",
   "metadata": {},
   "outputs": [
    {
     "data": {
      "image/png": "[encoded data removed]",
      "text/plain": [
       "<Figure size 432x288 with 1 Axes>"
      ]
     },
     "metadata": {
      "needs_background": "light"
     },
     "output_type": "display_data"
    }
   ],
   "source": [
    "from sklearn.metrics import roc_curve\n",
    "\n",
    "def generate_probs_rf(X, model = rf_results):\n",
    "    return model.predict_proba(X)[:, 1]\n",
    "\n",
    "def generate_roc_rf(y, probs):\n",
    "    fpr, tpr, _ = roc_curve(y, probs)\n",
    "    return fpr, tpr\n",
    "y_test_roc = y_test.map({'Property Damage Crash': 1, 'Injury Crash': 0}).astype(int)\n",
    "y_train_roc = y_train.map({'Property Damage Crash': 1, 'Injury Crash': 0}).astype(int)   \n",
    "fpr_test, tpr_test = generate_roc_rf(y_test_roc, generate_probs_rf(X_test))\n",
    "fpr_train, tpr_train = generate_roc_rf(y_train_roc, generate_probs_rf(X_train))\n",
    "\n",
    "plt.plot(fpr_test, tpr_test,'-r')\n",
    "plt.plot(fpr_train, tpr_train,'-b')\n",
    "plt.xlabel('False Positive Rate')\n",
    "plt.ylabel('True Positive Rate')\n",
    "plt.legend(['Test','Training'])\n",
    "plt.plot([0, 1], [0, 1], color='navy', linestyle='--')\n",
    "plt.show()"
   ]
  },
  {
   "cell_type": "code",
   "execution_count": 42,
   "id": "e30ec3fb",
   "metadata": {},
   "outputs": [
    {
     "data": {
      "text/plain": [
       "0.627563265315923"
      ]
     },
     "execution_count": 42,
     "metadata": {},
     "output_type": "execute_result"
    }
   ],
   "source": [
    "from sklearn.metrics import roc_auc_score\n",
    "\n",
    "roc_auc_score(y_test, generate_probs_rf(X_test))"
   ]
  },
  {
   "cell_type": "markdown",
   "id": "f4f8bb23",
   "metadata": {},
   "source": [
    "Accuracy of 60% can be considered a good discrimination. I choose roc_auc_score as a metric to decide the model. For this classifier, ROC_AUC score is 62% which is not better than Logistic."
   ]
  },
  {
   "cell_type": "markdown",
   "id": "728996c3",
   "metadata": {},
   "source": [
    "# Classification using Decision Tree"
   ]
  },
  {
   "cell_type": "markdown",
   "id": "625bba4e",
   "metadata": {},
   "source": [
    "Reference:https://github.com/appliedecon/data602-lectures/blob/main/trees/trees.ipynb"
   ]
  },
  {
   "cell_type": "code",
   "execution_count": 43,
   "id": "a2bb1a14",
   "metadata": {},
   "outputs": [
    {
     "data": {
      "text/plain": [
       "Pipeline(steps=[('data_processing',\n",
       "                 ColumnTransformer(transformers=[('proc_numericlist',\n",
       "                                                  Pipeline(steps=[('impute_missing',\n",
       "                                                                   SimpleImputer(strategy='median')),\n",
       "                                                                  ('standardize_num',\n",
       "                                                                   StandardScaler())]),\n",
       "                                                  ['ACC_DATE', 'DISTANCE',\n",
       "                                                   'LOG_MILE', 'RTE_NO',\n",
       "                                                   'YEAR']),\n",
       "                                                 ('create_dummies',\n",
       "                                                  Pipeline(steps=[('impute_missing',\n",
       "                                                                   SimpleImputer(strategy='most_frequent')),\n",
       "                                                                  ('create_du...\n",
       "                                                   'JUNCTION_DESC',\n",
       "                                                   'COLLISION_TYPE_DESC',\n",
       "                                                   'SURF_COND_DESC',\n",
       "                                                   'RD_COND_DESC',\n",
       "                                                   'RD_DIV_DESC',\n",
       "                                                   'FIX_OBJ_DESC',\n",
       "                                                   'WEATHER_DESC', 'ACC_TIME',\n",
       "                                                   'SIGNAL_FLAG_DESC',\n",
       "                                                   'C_M_ZONE_FLAG',\n",
       "                                                   'HARM_EVENT_DESC1',\n",
       "                                                   'HARM_EVENT_DESC2',\n",
       "                                                   'LOGMILE_DIR_FLAG_DESC',\n",
       "                                                   'FEET_MILES_FLAG_DESC',\n",
       "                                                   'DISTANCE_DIR_FLAG'])])),\n",
       "                ('dt',\n",
       "                 DecisionTreeClassifier(max_depth=10, min_samples_leaf=3,\n",
       "                                        min_samples_split=8))])"
      ]
     },
     "execution_count": 43,
     "metadata": {},
     "output_type": "execute_result"
    }
   ],
   "source": [
    "from sklearn.pipeline import Pipeline\n",
    "from sklearn.compose import ColumnTransformer\n",
    "from sklearn.preprocessing import StandardScaler\n",
    "from sklearn.preprocessing import PolynomialFeatures\n",
    "from sklearn.preprocessing import OneHotEncoder\n",
    "from sklearn.tree import DecisionTreeClassifier\n",
    "from sklearn.model_selection import GridSearchCV\n",
    "from sklearn.metrics import classification_report\n",
    "\n",
    "modeling_pipeline = Pipeline([\n",
    "    ('data_processing', processing_pipeline),\n",
    "    ('dt', DecisionTreeClassifier())]\n",
    ")\n",
    "\n",
    "param_grid = [\n",
    "  {'dt__max_depth': [3, 5, 6, 8,10],\n",
    "   'dt__min_samples_split':[2,4,6,8],\n",
    "   'dt__min_samples_leaf': [3, 7],\n",
    "   'dt__class_weight':[None, 'balanced']\n",
    "  }\n",
    " ]\n",
    "\n",
    "dt_results = GridSearchCV(estimator=modeling_pipeline, \n",
    "                           param_grid=param_grid, scoring='accuracy', refit=True)\n",
    "\n",
    "dt_results = dt_results.fit(X_train, y_train)\n",
    "\n",
    "dt_results.best_estimator_"
   ]
  },
  {
   "cell_type": "code",
   "execution_count": 44,
   "id": "a2bba70d",
   "metadata": {},
   "outputs": [
    {
     "name": "stdout",
     "output_type": "stream",
     "text": [
      "                       precision    recall  f1-score   support\n",
      "\n",
      "         Injury Crash       0.66      0.12      0.20     42111\n",
      "Property Damage Crash       0.73      0.98      0.84    105504\n",
      "\n",
      "             accuracy                           0.73    147615\n",
      "            macro avg       0.70      0.55      0.52    147615\n",
      "         weighted avg       0.71      0.73      0.66    147615\n",
      "\n"
     ]
    }
   ],
   "source": [
    "y_testp = dt_results.predict(X_test)\n",
    "y_testp_dt = dt_results.predict_proba(X_test)\n",
    "\n",
    "print(classification_report(y_test, y_testp))"
   ]
  },
  {
   "cell_type": "markdown",
   "id": "7c0fcf89",
   "metadata": {},
   "source": [
    "# ROC-AUC Curve for Decision Tree"
   ]
  },
  {
   "cell_type": "code",
   "execution_count": 45,
   "id": "8d53f732",
   "metadata": {},
   "outputs": [
    {
     "data": {
      "image/png": "[encoded data removed]",
      "text/plain": [
       "<Figure size 432x288 with 1 Axes>"
      ]
     },
     "metadata": {
      "needs_background": "light"
     },
     "output_type": "display_data"
    }
   ],
   "source": [
    "def generate_probs_dt(X, model = dt_results):\n",
    "    return model.predict_proba(X)[:, 1]\n",
    "\n",
    "def generate_roc_dt(y, probs):\n",
    "    fpr, tpr, _ = roc_curve(y, probs)\n",
    "    return fpr, tpr\n",
    "y_test_roc = y_test.map({'Property Damage Crash': 1, 'Injury Crash': 0}).astype(int)\n",
    "y_train_roc = y_train.map({'Property Damage Crash': 1, 'Injury Crash': 0}).astype(int)   \n",
    "fpr_test, tpr_test = generate_roc_dt(y_test_roc, generate_probs_dt(X_test))\n",
    "fpr_train, tpr_train = generate_roc_dt(y_train_roc, generate_probs_dt(X_train))\n",
    "\n",
    "plt.plot(fpr_test, tpr_test,'-r')\n",
    "plt.plot(fpr_train, tpr_train,'-b')\n",
    "plt.xlabel('False Positive Rate')\n",
    "plt.ylabel('True Positive Rate')\n",
    "plt.legend(['Test','Training'])\n",
    "plt.plot([0, 1], [0, 1], color='navy', linestyle='--')\n",
    "plt.show()"
   ]
  },
  {
   "cell_type": "code",
   "execution_count": 46,
   "id": "b066690e",
   "metadata": {},
   "outputs": [
    {
     "data": {
      "text/plain": [
       "0.6765126329987171"
      ]
     },
     "execution_count": 46,
     "metadata": {},
     "output_type": "execute_result"
    }
   ],
   "source": [
    "from sklearn.metrics import roc_auc_score\n",
    "\n",
    "roc_auc_score(y_test, generate_probs_dt(X_test))"
   ]
  },
  {
   "cell_type": "markdown",
   "id": "dae61cf9",
   "metadata": {},
   "source": [
    "Accuracy of 73% can be considered a good discrimination. I choose roc_auc_score as a metric to decide the model. For this classifier, ROC_AUC score is 67% which is not better than Logistic."
   ]
  },
  {
   "cell_type": "markdown",
   "id": "a4f17f35",
   "metadata": {},
   "source": [
    "## Conclusion\n",
    "After analyzing the three models, I think Logistic Regression Classifier has ROC_AUC score is 70% can classify better compared to others. We can improve the accuracy by dealing the dataset imbalance through better modeling techniques."
   ]
  },
  {
   "cell_type": "code",
   "execution_count": null,
   "id": "997e3452",
   "metadata": {},
   "outputs": [],
   "source": []
  }
 ],
 "metadata": {
  "kernelspec": {
   "display_name": "Python 3",
   "language": "python",
   "name": "python3"
  },
  "language_info": {
   "codemirror_mode": {
    "name": "ipython",
    "version": 3
   },
   "file_extension": ".py",
   "mimetype": "text/x-python",
   "name": "python",
   "nbconvert_exporter": "python",
   "pygments_lexer": "ipython3",
   "version": "3.8.8"
  }
 },
 "nbformat": 4,
 "nbformat_minor": 5
}
