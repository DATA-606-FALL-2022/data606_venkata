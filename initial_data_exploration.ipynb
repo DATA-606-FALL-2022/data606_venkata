{
 "cells": [
  {
   "cell_type": "code",
   "execution_count": 1,
   "id": "fc27d0e6",
   "metadata": {},
   "outputs": [
    {
     "name": "stdout",
     "output_type": "stream",
     "text": [
      "Requirement already satisfied: folium in c:\\users\\priya\\anaconda3\\lib\\site-packages (0.12.1.post1)\n",
      "Requirement already satisfied: branca>=0.3.0 in c:\\users\\priya\\anaconda3\\lib\\site-packages (from folium) (0.5.0)\n",
      "Requirement already satisfied: jinja2>=2.9 in c:\\users\\priya\\anaconda3\\lib\\site-packages (from folium) (2.11.3)\n",
      "Requirement already satisfied: requests in c:\\users\\priya\\anaconda3\\lib\\site-packages (from folium) (2.27.1)\n",
      "Requirement already satisfied: numpy in c:\\users\\priya\\anaconda3\\lib\\site-packages (from folium) (1.21.5)\n",
      "Requirement already satisfied: MarkupSafe>=0.23 in c:\\users\\priya\\anaconda3\\lib\\site-packages (from jinja2>=2.9->folium) (2.0.1)\n",
      "Requirement already satisfied: idna<4,>=2.5 in c:\\users\\priya\\anaconda3\\lib\\site-packages (from requests->folium) (3.3)\n",
      "Requirement already satisfied: charset-normalizer~=2.0.0 in c:\\users\\priya\\anaconda3\\lib\\site-packages (from requests->folium) (2.0.4)\n",
      "Requirement already satisfied: certifi>=2017.4.17 in c:\\users\\priya\\anaconda3\\lib\\site-packages (from requests->folium) (2021.10.8)\n",
      "Requirement already satisfied: urllib3<1.27,>=1.21.1 in c:\\users\\priya\\anaconda3\\lib\\site-packages (from requests->folium) (1.26.9)\n"
     ]
    }
   ],
   "source": [
    "# importing libraries and file.\n",
    "\n",
    "# for some basic operations\n",
    "import numpy as np \n",
    "import pandas as pd \n",
    "\n",
    "# for visualizations\n",
    "import matplotlib.pyplot as plt\n",
    "import seaborn as sns\n",
    "!pip install folium\n",
    "import folium"
   ]
  },
  {
   "cell_type": "code",
   "execution_count": 2,
   "id": "46da9aef",
   "metadata": {},
   "outputs": [
    {
     "name": "stderr",
     "output_type": "stream",
     "text": [
      "C:\\Users\\priya\\AppData\\Local\\Temp\\ipykernel_15472\\271665351.py:4: DtypeWarning: Columns (34,46) have mixed types. Specify dtype option on import or set low_memory=False.\n",
      "  df = pd.read_csv('Maryland_Statewide_Vehicle_Crashes.csv')\n"
     ]
    },
    {
     "data": {
      "text/html": [
       "<div>\n",
       "<style scoped>\n",
       "    .dataframe tbody tr th:only-of-type {\n",
       "        vertical-align: middle;\n",
       "    }\n",
       "\n",
       "    .dataframe tbody tr th {\n",
       "        vertical-align: top;\n",
       "    }\n",
       "\n",
       "    .dataframe thead th {\n",
       "        text-align: right;\n",
       "    }\n",
       "</style>\n",
       "<table border=\"1\" class=\"dataframe\">\n",
       "  <thead>\n",
       "    <tr style=\"text-align: right;\">\n",
       "      <th></th>\n",
       "      <th>YEAR</th>\n",
       "      <th>QUARTER</th>\n",
       "      <th>LIGHT_DESC</th>\n",
       "      <th>LIGHT_CODE</th>\n",
       "      <th>COUNTY_DESC</th>\n",
       "      <th>COUNTY_NO</th>\n",
       "      <th>MUNI_DESC</th>\n",
       "      <th>MUNI_CODE</th>\n",
       "      <th>JUNCTION_DESC</th>\n",
       "      <th>JUNCTION_CODE</th>\n",
       "      <th>...</th>\n",
       "      <th>FEET_MILES_FLAG_DESC</th>\n",
       "      <th>FEET_MILES_FLAG</th>\n",
       "      <th>DISTANCE_DIR_FLAG</th>\n",
       "      <th>REFERENCE_NO</th>\n",
       "      <th>REFERENCE_TYPE_CODE</th>\n",
       "      <th>REFERENCE_SUFFIX</th>\n",
       "      <th>REFERENCE_ROAD_NAME</th>\n",
       "      <th>LATITUDE</th>\n",
       "      <th>LONGITUDE</th>\n",
       "      <th>LOCATION</th>\n",
       "    </tr>\n",
       "  </thead>\n",
       "  <tbody>\n",
       "    <tr>\n",
       "      <th>0</th>\n",
       "      <td>2020</td>\n",
       "      <td>Q2</td>\n",
       "      <td>Daylight</td>\n",
       "      <td>1.00</td>\n",
       "      <td>Baltimore</td>\n",
       "      <td>3.0</td>\n",
       "      <td>NaN</td>\n",
       "      <td>NaN</td>\n",
       "      <td>NaN</td>\n",
       "      <td>NaN</td>\n",
       "      <td>...</td>\n",
       "      <td>NaN</td>\n",
       "      <td>NaN</td>\n",
       "      <td>NaN</td>\n",
       "      <td>NaN</td>\n",
       "      <td>NaN</td>\n",
       "      <td>NaN</td>\n",
       "      <td>NaN</td>\n",
       "      <td>39.277263</td>\n",
       "      <td>-76.503693</td>\n",
       "      <td>POINT (-76.5036932 39.27726285)</td>\n",
       "    </tr>\n",
       "    <tr>\n",
       "      <th>1</th>\n",
       "      <td>2022</td>\n",
       "      <td>Q2</td>\n",
       "      <td>Dark Lights On</td>\n",
       "      <td>3.00</td>\n",
       "      <td>Montgomery</td>\n",
       "      <td>15.0</td>\n",
       "      <td>NaN</td>\n",
       "      <td>NaN</td>\n",
       "      <td>NaN</td>\n",
       "      <td>NaN</td>\n",
       "      <td>...</td>\n",
       "      <td>NaN</td>\n",
       "      <td>NaN</td>\n",
       "      <td>NaN</td>\n",
       "      <td>NaN</td>\n",
       "      <td>NaN</td>\n",
       "      <td>NaN</td>\n",
       "      <td>NaN</td>\n",
       "      <td>38.992210</td>\n",
       "      <td>-77.097021</td>\n",
       "      <td>POINT (-77.097020666667 38.9922095)</td>\n",
       "    </tr>\n",
       "    <tr>\n",
       "      <th>2</th>\n",
       "      <td>2020</td>\n",
       "      <td>Q4</td>\n",
       "      <td>NaN</td>\n",
       "      <td>6.02</td>\n",
       "      <td>Baltimore</td>\n",
       "      <td>3.0</td>\n",
       "      <td>NaN</td>\n",
       "      <td>NaN</td>\n",
       "      <td>NaN</td>\n",
       "      <td>NaN</td>\n",
       "      <td>...</td>\n",
       "      <td>NaN</td>\n",
       "      <td>NaN</td>\n",
       "      <td>NaN</td>\n",
       "      <td>NaN</td>\n",
       "      <td>NaN</td>\n",
       "      <td>NaN</td>\n",
       "      <td>NaN</td>\n",
       "      <td>39.323620</td>\n",
       "      <td>-76.503080</td>\n",
       "      <td>POINT (-76.503080116667 39.323620083333)</td>\n",
       "    </tr>\n",
       "    <tr>\n",
       "      <th>3</th>\n",
       "      <td>2022</td>\n",
       "      <td>Q1</td>\n",
       "      <td>Daylight</td>\n",
       "      <td>1.00</td>\n",
       "      <td>Baltimore</td>\n",
       "      <td>3.0</td>\n",
       "      <td>NaN</td>\n",
       "      <td>NaN</td>\n",
       "      <td>NaN</td>\n",
       "      <td>NaN</td>\n",
       "      <td>...</td>\n",
       "      <td>NaN</td>\n",
       "      <td>NaN</td>\n",
       "      <td>NaN</td>\n",
       "      <td>NaN</td>\n",
       "      <td>NaN</td>\n",
       "      <td>NaN</td>\n",
       "      <td>NaN</td>\n",
       "      <td>39.411213</td>\n",
       "      <td>-76.628028</td>\n",
       "      <td>POINT (-76.628028425147 39.411213105087)</td>\n",
       "    </tr>\n",
       "    <tr>\n",
       "      <th>4</th>\n",
       "      <td>2022</td>\n",
       "      <td>Q2</td>\n",
       "      <td>Dark Lights On</td>\n",
       "      <td>3.00</td>\n",
       "      <td>Queen Anne's</td>\n",
       "      <td>17.0</td>\n",
       "      <td>NaN</td>\n",
       "      <td>NaN</td>\n",
       "      <td>NaN</td>\n",
       "      <td>NaN</td>\n",
       "      <td>...</td>\n",
       "      <td>NaN</td>\n",
       "      <td>NaN</td>\n",
       "      <td>NaN</td>\n",
       "      <td>NaN</td>\n",
       "      <td>NaN</td>\n",
       "      <td>NaN</td>\n",
       "      <td>NaN</td>\n",
       "      <td>38.974880</td>\n",
       "      <td>-76.281090</td>\n",
       "      <td>POINT (-76.28109 38.97488)</td>\n",
       "    </tr>\n",
       "    <tr>\n",
       "      <th>...</th>\n",
       "      <td>...</td>\n",
       "      <td>...</td>\n",
       "      <td>...</td>\n",
       "      <td>...</td>\n",
       "      <td>...</td>\n",
       "      <td>...</td>\n",
       "      <td>...</td>\n",
       "      <td>...</td>\n",
       "      <td>...</td>\n",
       "      <td>...</td>\n",
       "      <td>...</td>\n",
       "      <td>...</td>\n",
       "      <td>...</td>\n",
       "      <td>...</td>\n",
       "      <td>...</td>\n",
       "      <td>...</td>\n",
       "      <td>...</td>\n",
       "      <td>...</td>\n",
       "      <td>...</td>\n",
       "      <td>...</td>\n",
       "      <td>...</td>\n",
       "    </tr>\n",
       "    <tr>\n",
       "      <th>822407</th>\n",
       "      <td>2019</td>\n",
       "      <td>Q3</td>\n",
       "      <td>Daylight</td>\n",
       "      <td>1.00</td>\n",
       "      <td>Charles</td>\n",
       "      <td>8.0</td>\n",
       "      <td>NaN</td>\n",
       "      <td>0.0</td>\n",
       "      <td>Not Applicable</td>\n",
       "      <td>0.0</td>\n",
       "      <td>...</td>\n",
       "      <td>NaN</td>\n",
       "      <td>M</td>\n",
       "      <td>N</td>\n",
       "      <td>0.0</td>\n",
       "      <td>UU</td>\n",
       "      <td>NaN</td>\n",
       "      <td>STRUC #CHZ301 POTOMAC RIVER</td>\n",
       "      <td>38.363845</td>\n",
       "      <td>-76.980606</td>\n",
       "      <td>POINT (-76.98060605635531 38.363845415321)</td>\n",
       "    </tr>\n",
       "    <tr>\n",
       "      <th>822408</th>\n",
       "      <td>2019</td>\n",
       "      <td>Q3</td>\n",
       "      <td>Daylight</td>\n",
       "      <td>1.00</td>\n",
       "      <td>Montgomery</td>\n",
       "      <td>15.0</td>\n",
       "      <td>NaN</td>\n",
       "      <td>63.0</td>\n",
       "      <td>Intersection</td>\n",
       "      <td>2.0</td>\n",
       "      <td>...</td>\n",
       "      <td>NaN</td>\n",
       "      <td>F</td>\n",
       "      <td>N</td>\n",
       "      <td>182.0</td>\n",
       "      <td>MU</td>\n",
       "      <td>NaN</td>\n",
       "      <td>LAKE FOREST BLVD</td>\n",
       "      <td>39.151418</td>\n",
       "      <td>-77.207443</td>\n",
       "      <td>POINT (-77.2074433333333 39.1514183333333)</td>\n",
       "    </tr>\n",
       "    <tr>\n",
       "      <th>822409</th>\n",
       "      <td>2016</td>\n",
       "      <td>Q2</td>\n",
       "      <td>Daylight</td>\n",
       "      <td>1.00</td>\n",
       "      <td>Baltimore</td>\n",
       "      <td>3.0</td>\n",
       "      <td>NaN</td>\n",
       "      <td>0.0</td>\n",
       "      <td>Non Intersection</td>\n",
       "      <td>1.0</td>\n",
       "      <td>...</td>\n",
       "      <td>NaN</td>\n",
       "      <td>M</td>\n",
       "      <td>S</td>\n",
       "      <td>8746.0</td>\n",
       "      <td>CO</td>\n",
       "      <td>NaN</td>\n",
       "      <td>MORNING WALK DR</td>\n",
       "      <td>39.259988</td>\n",
       "      <td>-76.757913</td>\n",
       "      <td>POINT (-76.7579126358032 39.2599878865495)</td>\n",
       "    </tr>\n",
       "    <tr>\n",
       "      <th>822410</th>\n",
       "      <td>2018</td>\n",
       "      <td>Q4</td>\n",
       "      <td>Daylight</td>\n",
       "      <td>1.00</td>\n",
       "      <td>Baltimore</td>\n",
       "      <td>3.0</td>\n",
       "      <td>NaN</td>\n",
       "      <td>0.0</td>\n",
       "      <td>Non Intersection</td>\n",
       "      <td>1.0</td>\n",
       "      <td>...</td>\n",
       "      <td>NaN</td>\n",
       "      <td>F</td>\n",
       "      <td>S</td>\n",
       "      <td>70.0</td>\n",
       "      <td>IS</td>\n",
       "      <td>NaN</td>\n",
       "      <td>NO NAME</td>\n",
       "      <td>39.298405</td>\n",
       "      <td>-76.742785</td>\n",
       "      <td>POINT (-76.742785 39.298405)</td>\n",
       "    </tr>\n",
       "    <tr>\n",
       "      <th>822411</th>\n",
       "      <td>2018</td>\n",
       "      <td>Q3</td>\n",
       "      <td>Dark No Lights</td>\n",
       "      <td>4.00</td>\n",
       "      <td>Prince George's</td>\n",
       "      <td>16.0</td>\n",
       "      <td>NaN</td>\n",
       "      <td>0.0</td>\n",
       "      <td>Not Applicable</td>\n",
       "      <td>0.0</td>\n",
       "      <td>...</td>\n",
       "      <td>NaN</td>\n",
       "      <td>F</td>\n",
       "      <td>N</td>\n",
       "      <td>3645.0</td>\n",
       "      <td>CO</td>\n",
       "      <td>NaN</td>\n",
       "      <td>PALMER RD</td>\n",
       "      <td>38.767483</td>\n",
       "      <td>-76.994545</td>\n",
       "      <td>POINT (-76.9945445208878 38.7674834620352)</td>\n",
       "    </tr>\n",
       "  </tbody>\n",
       "</table>\n",
       "<p>822412 rows × 56 columns</p>\n",
       "</div>"
      ],
      "text/plain": [
       "        YEAR QUARTER      LIGHT_DESC  LIGHT_CODE      COUNTY_DESC  COUNTY_NO  \\\n",
       "0       2020      Q2        Daylight        1.00        Baltimore        3.0   \n",
       "1       2022      Q2  Dark Lights On        3.00       Montgomery       15.0   \n",
       "2       2020      Q4             NaN        6.02        Baltimore        3.0   \n",
       "3       2022      Q1        Daylight        1.00        Baltimore        3.0   \n",
       "4       2022      Q2  Dark Lights On        3.00     Queen Anne's       17.0   \n",
       "...      ...     ...             ...         ...              ...        ...   \n",
       "822407  2019      Q3        Daylight        1.00          Charles        8.0   \n",
       "822408  2019      Q3        Daylight        1.00       Montgomery       15.0   \n",
       "822409  2016      Q2        Daylight        1.00        Baltimore        3.0   \n",
       "822410  2018      Q4        Daylight        1.00        Baltimore        3.0   \n",
       "822411  2018      Q3  Dark No Lights        4.00  Prince George's       16.0   \n",
       "\n",
       "        MUNI_DESC  MUNI_CODE     JUNCTION_DESC  JUNCTION_CODE  ...  \\\n",
       "0             NaN        NaN               NaN            NaN  ...   \n",
       "1             NaN        NaN               NaN            NaN  ...   \n",
       "2             NaN        NaN               NaN            NaN  ...   \n",
       "3             NaN        NaN               NaN            NaN  ...   \n",
       "4             NaN        NaN               NaN            NaN  ...   \n",
       "...           ...        ...               ...            ...  ...   \n",
       "822407        NaN        0.0    Not Applicable            0.0  ...   \n",
       "822408        NaN       63.0      Intersection            2.0  ...   \n",
       "822409        NaN        0.0  Non Intersection            1.0  ...   \n",
       "822410        NaN        0.0  Non Intersection            1.0  ...   \n",
       "822411        NaN        0.0    Not Applicable            0.0  ...   \n",
       "\n",
       "       FEET_MILES_FLAG_DESC  FEET_MILES_FLAG DISTANCE_DIR_FLAG  REFERENCE_NO  \\\n",
       "0                       NaN              NaN               NaN           NaN   \n",
       "1                       NaN              NaN               NaN           NaN   \n",
       "2                       NaN              NaN               NaN           NaN   \n",
       "3                       NaN              NaN               NaN           NaN   \n",
       "4                       NaN              NaN               NaN           NaN   \n",
       "...                     ...              ...               ...           ...   \n",
       "822407                  NaN                M                 N           0.0   \n",
       "822408                  NaN                F                 N         182.0   \n",
       "822409                  NaN                M                 S        8746.0   \n",
       "822410                  NaN                F                 S          70.0   \n",
       "822411                  NaN                F                 N        3645.0   \n",
       "\n",
       "       REFERENCE_TYPE_CODE  REFERENCE_SUFFIX          REFERENCE_ROAD_NAME  \\\n",
       "0                      NaN               NaN                          NaN   \n",
       "1                      NaN               NaN                          NaN   \n",
       "2                      NaN               NaN                          NaN   \n",
       "3                      NaN               NaN                          NaN   \n",
       "4                      NaN               NaN                          NaN   \n",
       "...                    ...               ...                          ...   \n",
       "822407                  UU               NaN  STRUC #CHZ301 POTOMAC RIVER   \n",
       "822408                  MU               NaN             LAKE FOREST BLVD   \n",
       "822409                  CO               NaN              MORNING WALK DR   \n",
       "822410                  IS               NaN                      NO NAME   \n",
       "822411                  CO               NaN                    PALMER RD   \n",
       "\n",
       "         LATITUDE  LONGITUDE                                    LOCATION  \n",
       "0       39.277263 -76.503693             POINT (-76.5036932 39.27726285)  \n",
       "1       38.992210 -77.097021         POINT (-77.097020666667 38.9922095)  \n",
       "2       39.323620 -76.503080    POINT (-76.503080116667 39.323620083333)  \n",
       "3       39.411213 -76.628028    POINT (-76.628028425147 39.411213105087)  \n",
       "4       38.974880 -76.281090                  POINT (-76.28109 38.97488)  \n",
       "...           ...        ...                                         ...  \n",
       "822407  38.363845 -76.980606  POINT (-76.98060605635531 38.363845415321)  \n",
       "822408  39.151418 -77.207443  POINT (-77.2074433333333 39.1514183333333)  \n",
       "822409  39.259988 -76.757913  POINT (-76.7579126358032 39.2599878865495)  \n",
       "822410  39.298405 -76.742785                POINT (-76.742785 39.298405)  \n",
       "822411  38.767483 -76.994545  POINT (-76.9945445208878 38.7674834620352)  \n",
       "\n",
       "[822412 rows x 56 columns]"
      ]
     },
     "execution_count": 2,
     "metadata": {},
     "output_type": "execute_result"
    }
   ],
   "source": [
    "# dataset download link: https://opendata.maryland.gov/widgets/65du-s3qu\n",
    "\n",
    "#import the dataset.\n",
    "df = pd.read_csv('Maryland_Statewide_Vehicle_Crashes.csv')\n",
    "df"
   ]
  },
  {
   "cell_type": "code",
   "execution_count": 3,
   "id": "3f0e176b",
   "metadata": {},
   "outputs": [
    {
     "data": {
      "text/plain": [
       "(822412, 56)"
      ]
     },
     "execution_count": 3,
     "metadata": {},
     "output_type": "execute_result"
    }
   ],
   "source": [
    "df.shape   #To find the count of rows and columns in the df"
   ]
  },
  {
   "cell_type": "code",
   "execution_count": 4,
   "id": "273d582a",
   "metadata": {},
   "outputs": [
    {
     "data": {
      "text/plain": [
       "Index(['YEAR', 'QUARTER', 'LIGHT_DESC', 'LIGHT_CODE', 'COUNTY_DESC',\n",
       "       'COUNTY_NO', 'MUNI_DESC', 'MUNI_CODE', 'JUNCTION_DESC', 'JUNCTION_CODE',\n",
       "       'COLLISION_TYPE_DESC', 'COLLISION_TYPE_CODE', 'SURF_COND_DESC',\n",
       "       'SURF_COND_CODE', 'LANE_DESC', 'LANE_CODE', 'RD_COND_DESC',\n",
       "       'RD_COND_CODE', 'RD_DIV_DESC', 'RD_DIV_CODE', 'FIX_OBJ_DESC',\n",
       "       'FIX_OBJ_CODE', 'REPORT_NO', 'REPORT_TYPE', 'WEATHER_DESC',\n",
       "       'WEATHER_CODE', 'ACC_DATE', 'ACC_TIME', 'LOC_CODE', 'SIGNAL_FLAG_DESC',\n",
       "       'SIGNAL_FLAG', 'C_M_ZONE_FLAG', 'AGENCY_CODE', 'AREA_CODE',\n",
       "       'HARM_EVENT_DESC1', 'HARM_EVENT_CODE1', 'HARM_EVENT_DESC2',\n",
       "       'HARM_EVENT_CODE2', 'RTE_NO', 'ROUTE_TYPE_CODE', 'RTE_SUFFIX',\n",
       "       'LOG_MILE', 'LOGMILE_DIR_FLAG_DESC', 'LOGMILE_DIR_FLAG',\n",
       "       'MAINROAD_NAME', 'DISTANCE', 'FEET_MILES_FLAG_DESC', 'FEET_MILES_FLAG',\n",
       "       'DISTANCE_DIR_FLAG', 'REFERENCE_NO', 'REFERENCE_TYPE_CODE',\n",
       "       'REFERENCE_SUFFIX', 'REFERENCE_ROAD_NAME', 'LATITUDE', 'LONGITUDE',\n",
       "       'LOCATION'],\n",
       "      dtype='object')"
      ]
     },
     "execution_count": 4,
     "metadata": {},
     "output_type": "execute_result"
    }
   ],
   "source": [
    "#column names of the dataset\n",
    "df.columns"
   ]
  },
  {
   "cell_type": "code",
   "execution_count": 5,
   "id": "52f99e7e",
   "metadata": {},
   "outputs": [
    {
     "data": {
      "text/html": [
       "<div>\n",
       "<style scoped>\n",
       "    .dataframe tbody tr th:only-of-type {\n",
       "        vertical-align: middle;\n",
       "    }\n",
       "\n",
       "    .dataframe tbody tr th {\n",
       "        vertical-align: top;\n",
       "    }\n",
       "\n",
       "    .dataframe thead th {\n",
       "        text-align: right;\n",
       "    }\n",
       "</style>\n",
       "<table border=\"1\" class=\"dataframe\">\n",
       "  <thead>\n",
       "    <tr style=\"text-align: right;\">\n",
       "      <th></th>\n",
       "      <th>YEAR</th>\n",
       "      <th>LIGHT_CODE</th>\n",
       "      <th>COUNTY_NO</th>\n",
       "      <th>MUNI_DESC</th>\n",
       "      <th>MUNI_CODE</th>\n",
       "      <th>JUNCTION_CODE</th>\n",
       "      <th>COLLISION_TYPE_CODE</th>\n",
       "      <th>SURF_COND_CODE</th>\n",
       "      <th>LANE_CODE</th>\n",
       "      <th>RD_COND_CODE</th>\n",
       "      <th>...</th>\n",
       "      <th>WEATHER_CODE</th>\n",
       "      <th>ACC_DATE</th>\n",
       "      <th>HARM_EVENT_CODE1</th>\n",
       "      <th>HARM_EVENT_CODE2</th>\n",
       "      <th>RTE_NO</th>\n",
       "      <th>LOG_MILE</th>\n",
       "      <th>DISTANCE</th>\n",
       "      <th>REFERENCE_NO</th>\n",
       "      <th>LATITUDE</th>\n",
       "      <th>LONGITUDE</th>\n",
       "    </tr>\n",
       "  </thead>\n",
       "  <tbody>\n",
       "    <tr>\n",
       "      <th>count</th>\n",
       "      <td>822412.000000</td>\n",
       "      <td>822412.000000</td>\n",
       "      <td>822400.000000</td>\n",
       "      <td>0.0</td>\n",
       "      <td>615156.000000</td>\n",
       "      <td>740748.000000</td>\n",
       "      <td>822412.000000</td>\n",
       "      <td>740748.000000</td>\n",
       "      <td>624978.000000</td>\n",
       "      <td>740748.000000</td>\n",
       "      <td>...</td>\n",
       "      <td>822412.000000</td>\n",
       "      <td>8.224120e+05</td>\n",
       "      <td>822412.000000</td>\n",
       "      <td>822412.000000</td>\n",
       "      <td>657905.000000</td>\n",
       "      <td>737251.000000</td>\n",
       "      <td>722212.000000</td>\n",
       "      <td>650694.000000</td>\n",
       "      <td>822412.000000</td>\n",
       "      <td>822412.000000</td>\n",
       "    </tr>\n",
       "    <tr>\n",
       "      <th>mean</th>\n",
       "      <td>2018.173174</td>\n",
       "      <td>3.929687</td>\n",
       "      <td>12.765743</td>\n",
       "      <td>NaN</td>\n",
       "      <td>104.014808</td>\n",
       "      <td>2.656592</td>\n",
       "      <td>21.284513</td>\n",
       "      <td>2.655637</td>\n",
       "      <td>1.486628</td>\n",
       "      <td>1.784773</td>\n",
       "      <td>...</td>\n",
       "      <td>6.271272</td>\n",
       "      <td>2.018240e+07</td>\n",
       "      <td>3.951121</td>\n",
       "      <td>2.133855</td>\n",
       "      <td>969.756635</td>\n",
       "      <td>4.819127</td>\n",
       "      <td>63.964048</td>\n",
       "      <td>1283.030775</td>\n",
       "      <td>39.145343</td>\n",
       "      <td>-76.745110</td>\n",
       "    </tr>\n",
       "    <tr>\n",
       "      <th>std</th>\n",
       "      <td>2.154622</td>\n",
       "      <td>13.480515</td>\n",
       "      <td>7.868420</td>\n",
       "      <td>NaN</td>\n",
       "      <td>289.778404</td>\n",
       "      <td>9.998283</td>\n",
       "      <td>29.848388</td>\n",
       "      <td>9.156134</td>\n",
       "      <td>0.804025</td>\n",
       "      <td>8.572648</td>\n",
       "      <td>...</td>\n",
       "      <td>10.253379</td>\n",
       "      <td>2.151408e+04</td>\n",
       "      <td>8.579073</td>\n",
       "      <td>7.537980</td>\n",
       "      <td>1631.678072</td>\n",
       "      <td>9.324763</td>\n",
       "      <td>141.722727</td>\n",
       "      <td>1921.712137</td>\n",
       "      <td>0.310528</td>\n",
       "      <td>0.467689</td>\n",
       "    </tr>\n",
       "    <tr>\n",
       "      <th>min</th>\n",
       "      <td>2015.000000</td>\n",
       "      <td>0.000000</td>\n",
       "      <td>1.000000</td>\n",
       "      <td>NaN</td>\n",
       "      <td>0.000000</td>\n",
       "      <td>0.000000</td>\n",
       "      <td>0.000000</td>\n",
       "      <td>0.000000</td>\n",
       "      <td>1.000000</td>\n",
       "      <td>0.000000</td>\n",
       "      <td>...</td>\n",
       "      <td>0.000000</td>\n",
       "      <td>2.015010e+07</td>\n",
       "      <td>0.000000</td>\n",
       "      <td>0.000000</td>\n",
       "      <td>-121.000000</td>\n",
       "      <td>0.000000</td>\n",
       "      <td>0.000000</td>\n",
       "      <td>-200.000000</td>\n",
       "      <td>37.000000</td>\n",
       "      <td>-79.996100</td>\n",
       "    </tr>\n",
       "    <tr>\n",
       "      <th>25%</th>\n",
       "      <td>2016.000000</td>\n",
       "      <td>1.000000</td>\n",
       "      <td>3.000000</td>\n",
       "      <td>NaN</td>\n",
       "      <td>0.000000</td>\n",
       "      <td>1.000000</td>\n",
       "      <td>3.000000</td>\n",
       "      <td>2.000000</td>\n",
       "      <td>1.000000</td>\n",
       "      <td>1.000000</td>\n",
       "      <td>...</td>\n",
       "      <td>6.010000</td>\n",
       "      <td>2.016102e+07</td>\n",
       "      <td>1.000000</td>\n",
       "      <td>0.000000</td>\n",
       "      <td>90.000000</td>\n",
       "      <td>0.230000</td>\n",
       "      <td>0.000000</td>\n",
       "      <td>60.000000</td>\n",
       "      <td>38.982235</td>\n",
       "      <td>-76.940303</td>\n",
       "    </tr>\n",
       "    <tr>\n",
       "      <th>50%</th>\n",
       "      <td>2018.000000</td>\n",
       "      <td>1.000000</td>\n",
       "      <td>15.000000</td>\n",
       "      <td>NaN</td>\n",
       "      <td>0.000000</td>\n",
       "      <td>1.000000</td>\n",
       "      <td>11.000000</td>\n",
       "      <td>2.000000</td>\n",
       "      <td>1.000000</td>\n",
       "      <td>1.000000</td>\n",
       "      <td>...</td>\n",
       "      <td>6.010000</td>\n",
       "      <td>2.018082e+07</td>\n",
       "      <td>1.000000</td>\n",
       "      <td>0.000000</td>\n",
       "      <td>258.000000</td>\n",
       "      <td>1.650000</td>\n",
       "      <td>0.500000</td>\n",
       "      <td>356.000000</td>\n",
       "      <td>39.226267</td>\n",
       "      <td>-76.709360</td>\n",
       "    </tr>\n",
       "    <tr>\n",
       "      <th>75%</th>\n",
       "      <td>2020.000000</td>\n",
       "      <td>3.000000</td>\n",
       "      <td>18.000000</td>\n",
       "      <td>NaN</td>\n",
       "      <td>0.000000</td>\n",
       "      <td>2.000000</td>\n",
       "      <td>17.000000</td>\n",
       "      <td>2.000000</td>\n",
       "      <td>2.000000</td>\n",
       "      <td>1.000000</td>\n",
       "      <td>...</td>\n",
       "      <td>6.010000</td>\n",
       "      <td>2.020071e+07</td>\n",
       "      <td>3.000000</td>\n",
       "      <td>1.000000</td>\n",
       "      <td>920.000000</td>\n",
       "      <td>6.460000</td>\n",
       "      <td>50.000000</td>\n",
       "      <td>1668.000000</td>\n",
       "      <td>39.346210</td>\n",
       "      <td>-76.574555</td>\n",
       "    </tr>\n",
       "    <tr>\n",
       "      <th>max</th>\n",
       "      <td>2022.000000</td>\n",
       "      <td>99.000000</td>\n",
       "      <td>24.000000</td>\n",
       "      <td>NaN</td>\n",
       "      <td>999.000000</td>\n",
       "      <td>99.000000</td>\n",
       "      <td>99.000000</td>\n",
       "      <td>99.000000</td>\n",
       "      <td>18.000000</td>\n",
       "      <td>99.000000</td>\n",
       "      <td>...</td>\n",
       "      <td>99.000000</td>\n",
       "      <td>2.022063e+07</td>\n",
       "      <td>99.000000</td>\n",
       "      <td>99.000000</td>\n",
       "      <td>9922.000000</td>\n",
       "      <td>5100.000000</td>\n",
       "      <td>1000.000000</td>\n",
       "      <td>9921.000000</td>\n",
       "      <td>39.994802</td>\n",
       "      <td>-75.000000</td>\n",
       "    </tr>\n",
       "  </tbody>\n",
       "</table>\n",
       "<p>8 rows × 22 columns</p>\n",
       "</div>"
      ],
      "text/plain": [
       "                YEAR     LIGHT_CODE      COUNTY_NO  MUNI_DESC      MUNI_CODE  \\\n",
       "count  822412.000000  822412.000000  822400.000000        0.0  615156.000000   \n",
       "mean     2018.173174       3.929687      12.765743        NaN     104.014808   \n",
       "std         2.154622      13.480515       7.868420        NaN     289.778404   \n",
       "min      2015.000000       0.000000       1.000000        NaN       0.000000   \n",
       "25%      2016.000000       1.000000       3.000000        NaN       0.000000   \n",
       "50%      2018.000000       1.000000      15.000000        NaN       0.000000   \n",
       "75%      2020.000000       3.000000      18.000000        NaN       0.000000   \n",
       "max      2022.000000      99.000000      24.000000        NaN     999.000000   \n",
       "\n",
       "       JUNCTION_CODE  COLLISION_TYPE_CODE  SURF_COND_CODE      LANE_CODE  \\\n",
       "count  740748.000000        822412.000000   740748.000000  624978.000000   \n",
       "mean        2.656592            21.284513        2.655637       1.486628   \n",
       "std         9.998283            29.848388        9.156134       0.804025   \n",
       "min         0.000000             0.000000        0.000000       1.000000   \n",
       "25%         1.000000             3.000000        2.000000       1.000000   \n",
       "50%         1.000000            11.000000        2.000000       1.000000   \n",
       "75%         2.000000            17.000000        2.000000       2.000000   \n",
       "max        99.000000            99.000000       99.000000      18.000000   \n",
       "\n",
       "        RD_COND_CODE  ...   WEATHER_CODE      ACC_DATE  HARM_EVENT_CODE1  \\\n",
       "count  740748.000000  ...  822412.000000  8.224120e+05     822412.000000   \n",
       "mean        1.784773  ...       6.271272  2.018240e+07          3.951121   \n",
       "std         8.572648  ...      10.253379  2.151408e+04          8.579073   \n",
       "min         0.000000  ...       0.000000  2.015010e+07          0.000000   \n",
       "25%         1.000000  ...       6.010000  2.016102e+07          1.000000   \n",
       "50%         1.000000  ...       6.010000  2.018082e+07          1.000000   \n",
       "75%         1.000000  ...       6.010000  2.020071e+07          3.000000   \n",
       "max        99.000000  ...      99.000000  2.022063e+07         99.000000   \n",
       "\n",
       "       HARM_EVENT_CODE2         RTE_NO       LOG_MILE       DISTANCE  \\\n",
       "count     822412.000000  657905.000000  737251.000000  722212.000000   \n",
       "mean           2.133855     969.756635       4.819127      63.964048   \n",
       "std            7.537980    1631.678072       9.324763     141.722727   \n",
       "min            0.000000    -121.000000       0.000000       0.000000   \n",
       "25%            0.000000      90.000000       0.230000       0.000000   \n",
       "50%            0.000000     258.000000       1.650000       0.500000   \n",
       "75%            1.000000     920.000000       6.460000      50.000000   \n",
       "max           99.000000    9922.000000    5100.000000    1000.000000   \n",
       "\n",
       "        REFERENCE_NO       LATITUDE      LONGITUDE  \n",
       "count  650694.000000  822412.000000  822412.000000  \n",
       "mean     1283.030775      39.145343     -76.745110  \n",
       "std      1921.712137       0.310528       0.467689  \n",
       "min      -200.000000      37.000000     -79.996100  \n",
       "25%        60.000000      38.982235     -76.940303  \n",
       "50%       356.000000      39.226267     -76.709360  \n",
       "75%      1668.000000      39.346210     -76.574555  \n",
       "max      9921.000000      39.994802     -75.000000  \n",
       "\n",
       "[8 rows x 22 columns]"
      ]
     },
     "execution_count": 5,
     "metadata": {},
     "output_type": "execute_result"
    }
   ],
   "source": [
    "df.describe()"
   ]
  },
  {
   "cell_type": "code",
   "execution_count": 6,
   "id": "48642c90",
   "metadata": {},
   "outputs": [
    {
     "data": {
      "text/plain": [
       "YEAR                          0\n",
       "QUARTER                       0\n",
       "LIGHT_DESC                33235\n",
       "LIGHT_CODE                    0\n",
       "COUNTY_DESC                  12\n",
       "COUNTY_NO                    12\n",
       "MUNI_DESC                822412\n",
       "MUNI_CODE                207256\n",
       "JUNCTION_DESC            110305\n",
       "JUNCTION_CODE             81664\n",
       "COLLISION_TYPE_DESC           0\n",
       "COLLISION_TYPE_CODE           0\n",
       "SURF_COND_DESC            84017\n",
       "SURF_COND_CODE            81664\n",
       "LANE_DESC                197442\n",
       "LANE_CODE                197434\n",
       "RD_COND_DESC              81664\n",
       "RD_COND_CODE              81664\n",
       "RD_DIV_DESC               86039\n",
       "RD_DIV_CODE               81664\n",
       "FIX_OBJ_DESC              44101\n",
       "FIX_OBJ_CODE                  0\n",
       "REPORT_NO                     0\n",
       "REPORT_TYPE              110733\n",
       "WEATHER_DESC             385710\n",
       "WEATHER_CODE                  0\n",
       "ACC_DATE                      0\n",
       "ACC_TIME                      0\n",
       "LOC_CODE                 444232\n",
       "SIGNAL_FLAG_DESC              0\n",
       "SIGNAL_FLAG                   0\n",
       "C_M_ZONE_FLAG                 0\n",
       "AGENCY_CODE                   0\n",
       "AREA_CODE                     0\n",
       "HARM_EVENT_DESC1         595459\n",
       "HARM_EVENT_CODE1              0\n",
       "HARM_EVENT_DESC2              0\n",
       "HARM_EVENT_CODE2              0\n",
       "RTE_NO                   164507\n",
       "ROUTE_TYPE_CODE          162746\n",
       "RTE_SUFFIX               805557\n",
       "LOG_MILE                  85161\n",
       "LOGMILE_DIR_FLAG_DESC    159584\n",
       "LOGMILE_DIR_FLAG         159574\n",
       "MAINROAD_NAME             81672\n",
       "DISTANCE                 100200\n",
       "FEET_MILES_FLAG_DESC     572446\n",
       "FEET_MILES_FLAG           81665\n",
       "DISTANCE_DIR_FLAG         85042\n",
       "REFERENCE_NO             171718\n",
       "REFERENCE_TYPE_CODE      162506\n",
       "REFERENCE_SUFFIX         804607\n",
       "REFERENCE_ROAD_NAME       82406\n",
       "LATITUDE                      0\n",
       "LONGITUDE                     0\n",
       "LOCATION                      0\n",
       "dtype: int64"
      ]
     },
     "execution_count": 6,
     "metadata": {},
     "output_type": "execute_result"
    }
   ],
   "source": [
    "#checking the null values count for each column\n",
    "df.isnull().sum()"
   ]
  },
  {
   "cell_type": "code",
   "execution_count": 7,
   "id": "baf2b72d",
   "metadata": {},
   "outputs": [
    {
     "name": "stdout",
     "output_type": "stream",
     "text": [
      "<class 'pandas.core.frame.DataFrame'>\n",
      "RangeIndex: 822412 entries, 0 to 822411\n",
      "Data columns (total 56 columns):\n",
      " #   Column                 Non-Null Count   Dtype  \n",
      "---  ------                 --------------   -----  \n",
      " 0   YEAR                   822412 non-null  int64  \n",
      " 1   QUARTER                822412 non-null  object \n",
      " 2   LIGHT_DESC             789177 non-null  object \n",
      " 3   LIGHT_CODE             822412 non-null  float64\n",
      " 4   COUNTY_DESC            822400 non-null  object \n",
      " 5   COUNTY_NO              822400 non-null  float64\n",
      " 6   MUNI_DESC              0 non-null       float64\n",
      " 7   MUNI_CODE              615156 non-null  float64\n",
      " 8   JUNCTION_DESC          712107 non-null  object \n",
      " 9   JUNCTION_CODE          740748 non-null  float64\n",
      " 10  COLLISION_TYPE_DESC    822412 non-null  object \n",
      " 11  COLLISION_TYPE_CODE    822412 non-null  int64  \n",
      " 12  SURF_COND_DESC         738395 non-null  object \n",
      " 13  SURF_COND_CODE         740748 non-null  float64\n",
      " 14  LANE_DESC              624970 non-null  object \n",
      " 15  LANE_CODE              624978 non-null  float64\n",
      " 16  RD_COND_DESC           740748 non-null  object \n",
      " 17  RD_COND_CODE           740748 non-null  float64\n",
      " 18  RD_DIV_DESC            736373 non-null  object \n",
      " 19  RD_DIV_CODE            740748 non-null  float64\n",
      " 20  FIX_OBJ_DESC           778311 non-null  object \n",
      " 21  FIX_OBJ_CODE           822412 non-null  float64\n",
      " 22  REPORT_NO              822412 non-null  object \n",
      " 23  REPORT_TYPE            711679 non-null  object \n",
      " 24  WEATHER_DESC           436702 non-null  object \n",
      " 25  WEATHER_CODE           822412 non-null  float64\n",
      " 26  ACC_DATE               822412 non-null  int64  \n",
      " 27  ACC_TIME               822412 non-null  object \n",
      " 28  LOC_CODE               378180 non-null  object \n",
      " 29  SIGNAL_FLAG_DESC       822412 non-null  object \n",
      " 30  SIGNAL_FLAG            822412 non-null  object \n",
      " 31  C_M_ZONE_FLAG          822412 non-null  object \n",
      " 32  AGENCY_CODE            822412 non-null  object \n",
      " 33  AREA_CODE              822412 non-null  object \n",
      " 34  HARM_EVENT_DESC1       226953 non-null  object \n",
      " 35  HARM_EVENT_CODE1       822412 non-null  float64\n",
      " 36  HARM_EVENT_DESC2       822412 non-null  object \n",
      " 37  HARM_EVENT_CODE2       822412 non-null  float64\n",
      " 38  RTE_NO                 657905 non-null  float64\n",
      " 39  ROUTE_TYPE_CODE        659666 non-null  object \n",
      " 40  RTE_SUFFIX             16855 non-null   object \n",
      " 41  LOG_MILE               737251 non-null  float64\n",
      " 42  LOGMILE_DIR_FLAG_DESC  662828 non-null  object \n",
      " 43  LOGMILE_DIR_FLAG       662838 non-null  object \n",
      " 44  MAINROAD_NAME          740740 non-null  object \n",
      " 45  DISTANCE               722212 non-null  float64\n",
      " 46  FEET_MILES_FLAG_DESC   249966 non-null  object \n",
      " 47  FEET_MILES_FLAG        740747 non-null  object \n",
      " 48  DISTANCE_DIR_FLAG      737370 non-null  object \n",
      " 49  REFERENCE_NO           650694 non-null  float64\n",
      " 50  REFERENCE_TYPE_CODE    659906 non-null  object \n",
      " 51  REFERENCE_SUFFIX       17805 non-null   object \n",
      " 52  REFERENCE_ROAD_NAME    740006 non-null  object \n",
      " 53  LATITUDE               822412 non-null  float64\n",
      " 54  LONGITUDE              822412 non-null  float64\n",
      " 55  LOCATION               822412 non-null  object \n",
      "dtypes: float64(19), int64(3), object(34)\n",
      "memory usage: 351.4+ MB\n"
     ]
    }
   ],
   "source": [
    "#To find if there are any null values\n",
    "df.info()"
   ]
  },
  {
   "cell_type": "code",
   "execution_count": 8,
   "id": "fbca4f13",
   "metadata": {},
   "outputs": [],
   "source": [
    "# dropping the columns which have more null values. these 3 columns have almost more than 90% nulls.\n",
    "df.drop(['MUNI_DESC','RTE_SUFFIX','REFERENCE_SUFFIX'],axis='columns',inplace=True)"
   ]
  },
  {
   "cell_type": "code",
   "execution_count": 9,
   "id": "81b8fbeb",
   "metadata": {},
   "outputs": [
    {
     "data": {
      "text/html": [
       "<div>\n",
       "<style scoped>\n",
       "    .dataframe tbody tr th:only-of-type {\n",
       "        vertical-align: middle;\n",
       "    }\n",
       "\n",
       "    .dataframe tbody tr th {\n",
       "        vertical-align: top;\n",
       "    }\n",
       "\n",
       "    .dataframe thead th {\n",
       "        text-align: right;\n",
       "    }\n",
       "</style>\n",
       "<table border=\"1\" class=\"dataframe\">\n",
       "  <thead>\n",
       "    <tr style=\"text-align: right;\">\n",
       "      <th></th>\n",
       "      <th>YEAR</th>\n",
       "      <th>QUARTER</th>\n",
       "      <th>LIGHT_DESC</th>\n",
       "      <th>LIGHT_CODE</th>\n",
       "      <th>COUNTY_DESC</th>\n",
       "      <th>COUNTY_NO</th>\n",
       "      <th>MUNI_CODE</th>\n",
       "      <th>JUNCTION_DESC</th>\n",
       "      <th>JUNCTION_CODE</th>\n",
       "      <th>COLLISION_TYPE_DESC</th>\n",
       "      <th>...</th>\n",
       "      <th>DISTANCE</th>\n",
       "      <th>FEET_MILES_FLAG_DESC</th>\n",
       "      <th>FEET_MILES_FLAG</th>\n",
       "      <th>DISTANCE_DIR_FLAG</th>\n",
       "      <th>REFERENCE_NO</th>\n",
       "      <th>REFERENCE_TYPE_CODE</th>\n",
       "      <th>REFERENCE_ROAD_NAME</th>\n",
       "      <th>LATITUDE</th>\n",
       "      <th>LONGITUDE</th>\n",
       "      <th>LOCATION</th>\n",
       "    </tr>\n",
       "  </thead>\n",
       "  <tbody>\n",
       "  </tbody>\n",
       "</table>\n",
       "<p>0 rows × 53 columns</p>\n",
       "</div>"
      ],
      "text/plain": [
       "Empty DataFrame\n",
       "Columns: [YEAR, QUARTER, LIGHT_DESC, LIGHT_CODE, COUNTY_DESC, COUNTY_NO, MUNI_CODE, JUNCTION_DESC, JUNCTION_CODE, COLLISION_TYPE_DESC, COLLISION_TYPE_CODE, SURF_COND_DESC, SURF_COND_CODE, LANE_DESC, LANE_CODE, RD_COND_DESC, RD_COND_CODE, RD_DIV_DESC, RD_DIV_CODE, FIX_OBJ_DESC, FIX_OBJ_CODE, REPORT_NO, REPORT_TYPE, WEATHER_DESC, WEATHER_CODE, ACC_DATE, ACC_TIME, LOC_CODE, SIGNAL_FLAG_DESC, SIGNAL_FLAG, C_M_ZONE_FLAG, AGENCY_CODE, AREA_CODE, HARM_EVENT_DESC1, HARM_EVENT_CODE1, HARM_EVENT_DESC2, HARM_EVENT_CODE2, RTE_NO, ROUTE_TYPE_CODE, LOG_MILE, LOGMILE_DIR_FLAG_DESC, LOGMILE_DIR_FLAG, MAINROAD_NAME, DISTANCE, FEET_MILES_FLAG_DESC, FEET_MILES_FLAG, DISTANCE_DIR_FLAG, REFERENCE_NO, REFERENCE_TYPE_CODE, REFERENCE_ROAD_NAME, LATITUDE, LONGITUDE, LOCATION]\n",
       "Index: []\n",
       "\n",
       "[0 rows x 53 columns]"
      ]
     },
     "execution_count": 9,
     "metadata": {},
     "output_type": "execute_result"
    }
   ],
   "source": [
    "#checking the duplicates in df\n",
    "dup = df[df.duplicated()]\n",
    "dup"
   ]
  },
  {
   "cell_type": "code",
   "execution_count": 10,
   "id": "807e8732",
   "metadata": {},
   "outputs": [],
   "source": [
    "#the MUNI_CODE which is numerical representation of MUNI_DESC.Hence dropping it from the df.\n",
    "df.drop(['MUNI_CODE'],axis='columns',inplace=True)"
   ]
  },
  {
   "cell_type": "code",
   "execution_count": 11,
   "id": "ce17ea23",
   "metadata": {},
   "outputs": [
    {
     "data": {
      "text/plain": [
       "(822412, 52)"
      ]
     },
     "execution_count": 11,
     "metadata": {},
     "output_type": "execute_result"
    }
   ],
   "source": [
    "df.shape"
   ]
  },
  {
   "cell_type": "code",
   "execution_count": 12,
   "id": "48004564",
   "metadata": {},
   "outputs": [],
   "source": [
    "#dropping the columns which don't have predictive power \n",
    "df.drop(['AREA_CODE','MAINROAD_NAME','REFERENCE_ROAD_NAME','LOCATION',\n",
    "                           'REPORT_NO','LOC_CODE','REFERENCE_TYPE_CODE','AGENCY_CODE','FEET_MILES_FLAG','SIGNAL_FLAG','LOGMILE_DIR_FLAG','ROUTE_TYPE_CODE'], axis = 'columns',inplace=True)"
   ]
  },
  {
   "cell_type": "code",
   "execution_count": 13,
   "id": "b4d4a4ce",
   "metadata": {},
   "outputs": [
    {
     "data": {
      "text/plain": [
       "(822412, 40)"
      ]
     },
     "execution_count": 13,
     "metadata": {},
     "output_type": "execute_result"
    }
   ],
   "source": [
    "df.shape"
   ]
  },
  {
   "cell_type": "code",
   "execution_count": 14,
   "id": "95965957",
   "metadata": {},
   "outputs": [
    {
     "name": "stdout",
     "output_type": "stream",
     "text": [
      "<class 'pandas.core.frame.DataFrame'>\n",
      "RangeIndex: 822412 entries, 0 to 822411\n",
      "Data columns (total 40 columns):\n",
      " #   Column                 Non-Null Count   Dtype  \n",
      "---  ------                 --------------   -----  \n",
      " 0   YEAR                   822412 non-null  int64  \n",
      " 1   QUARTER                822412 non-null  object \n",
      " 2   LIGHT_DESC             789177 non-null  object \n",
      " 3   LIGHT_CODE             822412 non-null  float64\n",
      " 4   COUNTY_DESC            822400 non-null  object \n",
      " 5   COUNTY_NO              822400 non-null  float64\n",
      " 6   JUNCTION_DESC          712107 non-null  object \n",
      " 7   JUNCTION_CODE          740748 non-null  float64\n",
      " 8   COLLISION_TYPE_DESC    822412 non-null  object \n",
      " 9   COLLISION_TYPE_CODE    822412 non-null  int64  \n",
      " 10  SURF_COND_DESC         738395 non-null  object \n",
      " 11  SURF_COND_CODE         740748 non-null  float64\n",
      " 12  LANE_DESC              624970 non-null  object \n",
      " 13  LANE_CODE              624978 non-null  float64\n",
      " 14  RD_COND_DESC           740748 non-null  object \n",
      " 15  RD_COND_CODE           740748 non-null  float64\n",
      " 16  RD_DIV_DESC            736373 non-null  object \n",
      " 17  RD_DIV_CODE            740748 non-null  float64\n",
      " 18  FIX_OBJ_DESC           778311 non-null  object \n",
      " 19  FIX_OBJ_CODE           822412 non-null  float64\n",
      " 20  REPORT_TYPE            711679 non-null  object \n",
      " 21  WEATHER_DESC           436702 non-null  object \n",
      " 22  WEATHER_CODE           822412 non-null  float64\n",
      " 23  ACC_DATE               822412 non-null  int64  \n",
      " 24  ACC_TIME               822412 non-null  object \n",
      " 25  SIGNAL_FLAG_DESC       822412 non-null  object \n",
      " 26  C_M_ZONE_FLAG          822412 non-null  object \n",
      " 27  HARM_EVENT_DESC1       226953 non-null  object \n",
      " 28  HARM_EVENT_CODE1       822412 non-null  float64\n",
      " 29  HARM_EVENT_DESC2       822412 non-null  object \n",
      " 30  HARM_EVENT_CODE2       822412 non-null  float64\n",
      " 31  RTE_NO                 657905 non-null  float64\n",
      " 32  LOG_MILE               737251 non-null  float64\n",
      " 33  LOGMILE_DIR_FLAG_DESC  662828 non-null  object \n",
      " 34  DISTANCE               722212 non-null  float64\n",
      " 35  FEET_MILES_FLAG_DESC   249966 non-null  object \n",
      " 36  DISTANCE_DIR_FLAG      737370 non-null  object \n",
      " 37  REFERENCE_NO           650694 non-null  float64\n",
      " 38  LATITUDE               822412 non-null  float64\n",
      " 39  LONGITUDE              822412 non-null  float64\n",
      "dtypes: float64(17), int64(3), object(20)\n",
      "memory usage: 251.0+ MB\n"
     ]
    }
   ],
   "source": [
    "df.info()"
   ]
  },
  {
   "cell_type": "code",
   "execution_count": 15,
   "id": "6d807d46",
   "metadata": {},
   "outputs": [],
   "source": [
    "#There are few columns that numerically correspond identically to other columns. So, i am removing those columns.\n",
    "df.drop(['LIGHT_CODE','COUNTY_NO','JUNCTION_CODE','COLLISION_TYPE_CODE','SURF_COND_CODE','LANE_CODE','RD_COND_CODE','RD_DIV_CODE','FIX_OBJ_CODE','WEATHER_CODE','HARM_EVENT_CODE1','HARM_EVENT_CODE2'], \n",
    "                          axis = 'columns',\n",
    "                         inplace = True)"
   ]
  },
  {
   "cell_type": "code",
   "execution_count": 16,
   "id": "baa1821d",
   "metadata": {},
   "outputs": [
    {
     "name": "stdout",
     "output_type": "stream",
     "text": [
      "<class 'pandas.core.frame.DataFrame'>\n",
      "RangeIndex: 822412 entries, 0 to 822411\n",
      "Data columns (total 28 columns):\n",
      " #   Column                 Non-Null Count   Dtype  \n",
      "---  ------                 --------------   -----  \n",
      " 0   YEAR                   822412 non-null  int64  \n",
      " 1   QUARTER                822412 non-null  object \n",
      " 2   LIGHT_DESC             789177 non-null  object \n",
      " 3   COUNTY_DESC            822400 non-null  object \n",
      " 4   JUNCTION_DESC          712107 non-null  object \n",
      " 5   COLLISION_TYPE_DESC    822412 non-null  object \n",
      " 6   SURF_COND_DESC         738395 non-null  object \n",
      " 7   LANE_DESC              624970 non-null  object \n",
      " 8   RD_COND_DESC           740748 non-null  object \n",
      " 9   RD_DIV_DESC            736373 non-null  object \n",
      " 10  FIX_OBJ_DESC           778311 non-null  object \n",
      " 11  REPORT_TYPE            711679 non-null  object \n",
      " 12  WEATHER_DESC           436702 non-null  object \n",
      " 13  ACC_DATE               822412 non-null  int64  \n",
      " 14  ACC_TIME               822412 non-null  object \n",
      " 15  SIGNAL_FLAG_DESC       822412 non-null  object \n",
      " 16  C_M_ZONE_FLAG          822412 non-null  object \n",
      " 17  HARM_EVENT_DESC1       226953 non-null  object \n",
      " 18  HARM_EVENT_DESC2       822412 non-null  object \n",
      " 19  RTE_NO                 657905 non-null  float64\n",
      " 20  LOG_MILE               737251 non-null  float64\n",
      " 21  LOGMILE_DIR_FLAG_DESC  662828 non-null  object \n",
      " 22  DISTANCE               722212 non-null  float64\n",
      " 23  FEET_MILES_FLAG_DESC   249966 non-null  object \n",
      " 24  DISTANCE_DIR_FLAG      737370 non-null  object \n",
      " 25  REFERENCE_NO           650694 non-null  float64\n",
      " 26  LATITUDE               822412 non-null  float64\n",
      " 27  LONGITUDE              822412 non-null  float64\n",
      "dtypes: float64(6), int64(2), object(20)\n",
      "memory usage: 175.7+ MB\n"
     ]
    }
   ],
   "source": [
    "df.info()"
   ]
  },
  {
   "cell_type": "code",
   "execution_count": 17,
   "id": "71958f90",
   "metadata": {},
   "outputs": [],
   "source": [
    "# there are few nulls in the some of the columns I will handle this nulls when I create the pipelines for ml models. "
   ]
  },
  {
   "cell_type": "markdown",
   "id": "ce134bbf",
   "metadata": {},
   "source": [
    "#  TARGET VARIABLE"
   ]
  },
  {
   "cell_type": "code",
   "execution_count": 18,
   "id": "acdb4b18",
   "metadata": {},
   "outputs": [],
   "source": [
    "#  Target variable is REPORT TYPE. Property Damage Crash, Injury Crash, and Fatal Crash are all various classes that are included in the target variable. Injury crash and fatal crash are nearly identical. "
   ]
  },
  {
   "cell_type": "code",
   "execution_count": 19,
   "id": "56b7ea7b",
   "metadata": {},
   "outputs": [],
   "source": [
    "#dropping all the null values in target variable \n",
    "df = df.dropna(subset = ['REPORT_TYPE'])"
   ]
  },
  {
   "cell_type": "code",
   "execution_count": 20,
   "id": "6a197928",
   "metadata": {},
   "outputs": [
    {
     "name": "stderr",
     "output_type": "stream",
     "text": [
      "C:\\Users\\priya\\AppData\\Local\\Temp\\ipykernel_15472\\549826269.py:2: SettingWithCopyWarning: \n",
      "A value is trying to be set on a copy of a slice from a DataFrame.\n",
      "Try using .loc[row_indexer,col_indexer] = value instead\n",
      "\n",
      "See the caveats in the documentation: https://pandas.pydata.org/pandas-docs/stable/user_guide/indexing.html#returning-a-view-versus-a-copy\n",
      "  df['REPORT_TYPE'] = df['REPORT_TYPE'].replace({'Fatal Crash':'Injury Crash'})\n"
     ]
    }
   ],
   "source": [
    "#replacing the class in target varaible \n",
    "df['REPORT_TYPE'] = df['REPORT_TYPE'].replace({'Fatal Crash':'Injury Crash'})"
   ]
  },
  {
   "cell_type": "code",
   "execution_count": 21,
   "id": "9a495b17",
   "metadata": {},
   "outputs": [
    {
     "data": {
      "text/plain": [
       "Property Damage Crash    509539\n",
       "Injury Crash             202140\n",
       "Name: REPORT_TYPE, dtype: int64"
      ]
     },
     "execution_count": 21,
     "metadata": {},
     "output_type": "execute_result"
    }
   ],
   "source": [
    "df.REPORT_TYPE.value_counts() # value count for target variable"
   ]
  },
  {
   "cell_type": "code",
   "execution_count": 22,
   "id": "2cb234d8",
   "metadata": {},
   "outputs": [
    {
     "data": {
      "text/plain": [
       "<AxesSubplot:>"
      ]
     },
     "execution_count": 22,
     "metadata": {},
     "output_type": "execute_result"
    },
    {
     "data": {
      "image/png": "[encoded data removed]",
      "text/plain": [
       "<Figure size 432x288 with 1 Axes>"
      ]
     },
     "metadata": {
      "needs_background": "light"
     },
     "output_type": "display_data"
    }
   ],
   "source": [
    "df['REPORT_TYPE'].value_counts().plot.bar() # bar plot for target variable"
   ]
  },
  {
   "cell_type": "markdown",
   "id": "274a5766",
   "metadata": {},
   "source": [
    "# Plots that show the distribution of the data"
   ]
  },
  {
   "cell_type": "code",
   "execution_count": 23,
   "id": "7db7e28d",
   "metadata": {},
   "outputs": [
    {
     "data": {
      "text/plain": [
       "array([[<AxesSubplot:title={'center':'YEAR'}>,\n",
       "        <AxesSubplot:title={'center':'ACC_DATE'}>,\n",
       "        <AxesSubplot:title={'center':'RTE_NO'}>],\n",
       "       [<AxesSubplot:title={'center':'LOG_MILE'}>,\n",
       "        <AxesSubplot:title={'center':'DISTANCE'}>,\n",
       "        <AxesSubplot:title={'center':'REFERENCE_NO'}>],\n",
       "       [<AxesSubplot:title={'center':'LATITUDE'}>,\n",
       "        <AxesSubplot:title={'center':'LONGITUDE'}>, <AxesSubplot:>]],\n",
       "      dtype=object)"
      ]
     },
     "execution_count": 23,
     "metadata": {},
     "output_type": "execute_result"
    },
    {
     "data": {
      "image/png": "[encoded data removed]",
      "text/plain": [
       "<Figure size 1440x1800 with 9 Axes>"
      ]
     },
     "metadata": {
      "needs_background": "light"
     },
     "output_type": "display_data"
    }
   ],
   "source": [
    "df.hist(bins = 25,figsize = (20,25))"
   ]
  },
  {
   "cell_type": "markdown",
   "id": "1de04741",
   "metadata": {},
   "source": [
    "# plotting bar graph for Countywide vehicle crashes"
   ]
  },
  {
   "cell_type": "code",
   "execution_count": 24,
   "id": "c80e9498",
   "metadata": {},
   "outputs": [
    {
     "data": {
      "image/png": "[encoded data removed]",
      "text/plain": [
       "<Figure size 1296x792 with 1 Axes>"
      ]
     },
     "metadata": {
      "needs_background": "light"
     },
     "output_type": "display_data"
    }
   ],
   "source": [
    "plt.rcParams['figure.figsize'] = (25, 10)\n",
    "df['COUNTY_DESC'].value_counts().plot.bar( figsize = (18, 11))\n",
    "plt.title('Countywide vehicle crashes', fontweight = 25, fontsize = 22)\n",
    "plt.show()"
   ]
  },
  {
   "cell_type": "markdown",
   "id": "36911ac4",
   "metadata": {},
   "source": [
    "In the above bar graph we can clearly see that in Baltimore county there are more than 120000 crashes."
   ]
  },
  {
   "cell_type": "code",
   "execution_count": 25,
   "id": "1231e4de",
   "metadata": {},
   "outputs": [
    {
     "name": "stdout",
     "output_type": "stream",
     "text": [
      "Requirement already satisfied: squarify in c:\\users\\priya\\anaconda3\\lib\\site-packages (0.4.3)\n"
     ]
    },
    {
     "data": {
      "image/png": "[encoded data removed]",
      "text/plain": [
       "<Figure size 2520x2520 with 1 Axes>"
      ]
     },
     "metadata": {},
     "output_type": "display_data"
    }
   ],
   "source": [
    "#Plotting a tree map\n",
    "import numpy as np\n",
    "!pip install squarify\n",
    "import squarify\n",
    "y = df['COUNTY_DESC'].value_counts()\n",
    "    \n",
    "plt.rcParams['figure.figsize'] = (35, 35)\n",
    "plt.style.use('fivethirtyeight')\n",
    "color = plt.cm.magma(np.linspace(0, 1, 15))\n",
    "squarify.plot(sizes = y.values, label = y.index, alpha=.8, color = color)\n",
    "plt.title('Tree Map for Countywide vehicle crashes', fontsize = 25)\n",
    "plt.axis('off')\n",
    "plt.show()"
   ]
  },
  {
   "cell_type": "markdown",
   "id": "ad9233fc",
   "metadata": {},
   "source": [
    "In the above tree map we can clearly see that batimore, Baltimore city, Montgomery, Prince George has more crashes in the past."
   ]
  },
  {
   "cell_type": "markdown",
   "id": "219d49cf",
   "metadata": {},
   "source": [
    "# Representation of correlation using heatmap"
   ]
  },
  {
   "cell_type": "code",
   "execution_count": 26,
   "id": "54a90e44",
   "metadata": {},
   "outputs": [
    {
     "data": {
      "image/png": "[encoded data removed]",
      "text/plain": [
       "<Figure size 864x576 with 2 Axes>"
      ]
     },
     "metadata": {},
     "output_type": "display_data"
    }
   ],
   "source": [
    "f, ax = plt.subplots(figsize=(12, 8))\n",
    "sns.heatmap(df.corr(), cmap=\"YlGnBu\");"
   ]
  },
  {
   "cell_type": "code",
   "execution_count": null,
   "id": "d687280c",
   "metadata": {},
   "outputs": [],
   "source": []
  },
  {
   "cell_type": "code",
   "execution_count": null,
   "id": "7f158bce",
   "metadata": {},
   "outputs": [],
   "source": []
  }
 ],
 "metadata": {
  "kernelspec": {
   "display_name": "Python 3 (ipykernel)",
   "language": "python",
   "name": "python3"
  },
  "language_info": {
   "codemirror_mode": {
    "name": "ipython",
    "version": 3
   },
   "file_extension": ".py",
   "mimetype": "text/x-python",
   "name": "python",
   "nbconvert_exporter": "python",
   "pygments_lexer": "ipython3",
   "version": "3.9.12"
  }
 },
 "nbformat": 4,
 "nbformat_minor": 5
}
